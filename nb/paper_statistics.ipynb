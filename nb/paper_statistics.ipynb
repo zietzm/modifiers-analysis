{
 "cells": [
  {
   "cell_type": "code",
   "execution_count": 1,
   "metadata": {},
   "outputs": [
    {
     "name": "stderr",
     "output_type": "stream",
     "text": [
      "── Attaching packages ─────────────────────────────────────── tidyverse 1.2.1 ──\n",
      "✔ ggplot2 3.2.1     ✔ purrr   0.3.2\n",
      "✔ tibble  2.1.3     ✔ dplyr   0.8.3\n",
      "✔ tidyr   1.0.0     ✔ stringr 1.4.0\n",
      "✔ readr   1.3.1     ✔ forcats 0.4.0\n",
      "── Conflicts ────────────────────────────────────────── tidyverse_conflicts() ──\n",
      "✖ dplyr::filter() masks stats::filter()\n",
      "✖ dplyr::lag()    masks stats::lag()\n"
     ]
    }
   ],
   "source": [
    "library(tidyverse)"
   ]
  },
  {
   "cell_type": "markdown",
   "metadata": {},
   "source": [
    "## Number of modified concepts"
   ]
  },
  {
   "cell_type": "code",
   "execution_count": 2,
   "metadata": {},
   "outputs": [
    {
     "name": "stderr",
     "output_type": "stream",
     "text": [
      "Parsed with column specification:\n",
      "cols(\n",
      "  concept_id = col_double(),\n",
      "  concept_name = col_character(),\n",
      "  concept_code = col_double()\n",
      ")\n"
     ]
    },
    {
     "data": {
      "text/html": [
       "<table>\n",
       "<caption>A tibble: 1 × 2</caption>\n",
       "<thead>\n",
       "\t<tr><th scope=col>n_total</th><th scope=col>n_in_name</th></tr>\n",
       "\t<tr><th scope=col>&lt;int&gt;</th><th scope=col>&lt;int&gt;</th></tr>\n",
       "</thead>\n",
       "<tbody>\n",
       "\t<tr><td>597</td><td>525</td></tr>\n",
       "</tbody>\n",
       "</table>\n"
      ],
      "text/latex": [
       "A tibble: 1 × 2\n",
       "\\begin{tabular}{r|ll}\n",
       " n\\_total & n\\_in\\_name\\\\\n",
       " <int> & <int>\\\\\n",
       "\\hline\n",
       "\t 597 & 525\\\\\n",
       "\\end{tabular}\n"
      ],
      "text/markdown": [
       "\n",
       "A tibble: 1 × 2\n",
       "\n",
       "| n_total &lt;int&gt; | n_in_name &lt;int&gt; |\n",
       "|---|---|\n",
       "| 597 | 525 |\n",
       "\n"
      ],
      "text/plain": [
       "  n_total n_in_name\n",
       "1 597     525      "
      ]
     },
     "metadata": {},
     "output_type": "display_data"
    }
   ],
   "source": [
    "mod <- read_tsv('../data/computed/concepts_with_modifiers.tsv')\n",
    "\n",
    "mod %>% \n",
    "mutate(\n",
    "    in_name = str_detect(concept_name %>% str_to_lower, 'significant|serious|severe')\n",
    ") %>%\n",
    "distinct(concept_code, .keep_all = T) %>%\n",
    "summarize(\n",
    "    n_total = n(),\n",
    "    n_in_name = sum(in_name)\n",
    ")"
   ]
  },
  {
   "cell_type": "markdown",
   "metadata": {},
   "source": [
    "## Parents"
   ]
  },
  {
   "cell_type": "code",
   "execution_count": 10,
   "metadata": {},
   "outputs": [
    {
     "data": {
      "text/html": [
       "<table>\n",
       "<caption>A tibble: 1 × 1</caption>\n",
       "<thead>\n",
       "\t<tr><th scope=col>n_parent</th></tr>\n",
       "\t<tr><th scope=col>&lt;int&gt;</th></tr>\n",
       "</thead>\n",
       "<tbody>\n",
       "\t<tr><td>460</td></tr>\n",
       "</tbody>\n",
       "</table>\n"
      ],
      "text/latex": [
       "A tibble: 1 × 1\n",
       "\\begin{tabular}{r|l}\n",
       " n\\_parent\\\\\n",
       " <int>\\\\\n",
       "\\hline\n",
       "\t 460\\\\\n",
       "\\end{tabular}\n"
      ],
      "text/markdown": [
       "\n",
       "A tibble: 1 × 1\n",
       "\n",
       "| n_parent &lt;int&gt; |\n",
       "|---|\n",
       "| 460 |\n",
       "\n"
      ],
      "text/plain": [
       "  n_parent\n",
       "1 460     "
      ]
     },
     "metadata": {},
     "output_type": "display_data"
    }
   ],
   "source": [
    "parent <- read_tsv('../data/computed/parents_with_modified_children.tsv',\n",
    "                   col_types = cols(.default = \"c\"))\n",
    "\n",
    "parent %>%\n",
    "    distinct(parent_concept_code, .keep_all = T) %>%\n",
    "    summarize(\n",
    "        n_parent = n()\n",
    "    )"
   ]
  },
  {
   "cell_type": "markdown",
   "metadata": {},
   "source": [
    "## Parent matches"
   ]
  },
  {
   "cell_type": "code",
   "execution_count": 11,
   "metadata": {},
   "outputs": [
    {
     "name": "stderr",
     "output_type": "stream",
     "text": [
      "Parsed with column specification:\n",
      "cols(\n",
      "  NCT_id = col_character(),\n",
      "  matched_string = col_character(),\n",
      "  criteria_string = col_character(),\n",
      "  parent_concept_id = col_double(),\n",
      "  parent_concept_name = col_character()\n",
      ")\n"
     ]
    }
   ],
   "source": [
    "matches <- read_csv('../data/extracted_parents.csv.xz')"
   ]
  },
  {
   "cell_type": "code",
   "execution_count": 14,
   "metadata": {},
   "outputs": [
    {
     "data": {
      "text/html": [
       "<table>\n",
       "<caption>A tibble: 1 × 3</caption>\n",
       "<thead>\n",
       "\t<tr><th scope=col>n_matches</th><th scope=col>n_distinct_parents</th><th scope=col>n_trials</th></tr>\n",
       "\t<tr><th scope=col>&lt;int&gt;</th><th scope=col>&lt;int&gt;</th><th scope=col>&lt;int&gt;</th></tr>\n",
       "</thead>\n",
       "<tbody>\n",
       "\t<tr><td>301641</td><td>232</td><td>148959</td></tr>\n",
       "</tbody>\n",
       "</table>\n"
      ],
      "text/latex": [
       "A tibble: 1 × 3\n",
       "\\begin{tabular}{r|lll}\n",
       " n\\_matches & n\\_distinct\\_parents & n\\_trials\\\\\n",
       " <int> & <int> & <int>\\\\\n",
       "\\hline\n",
       "\t 301641 & 232 & 148959\\\\\n",
       "\\end{tabular}\n"
      ],
      "text/markdown": [
       "\n",
       "A tibble: 1 × 3\n",
       "\n",
       "| n_matches &lt;int&gt; | n_distinct_parents &lt;int&gt; | n_trials &lt;int&gt; |\n",
       "|---|---|---|\n",
       "| 301641 | 232 | 148959 |\n",
       "\n"
      ],
      "text/plain": [
       "  n_matches n_distinct_parents n_trials\n",
       "1 301641    232                148959  "
      ]
     },
     "metadata": {},
     "output_type": "display_data"
    }
   ],
   "source": [
    "matches %>% \n",
    "summarize(\n",
    "    n_matches = n(),\n",
    "    n_distinct_parents = n_distinct(parent_concept_id),\n",
    "    n_trials = n_distinct(NCT_id)\n",
    ")"
   ]
  },
  {
   "cell_type": "code",
   "execution_count": null,
   "metadata": {},
   "outputs": [],
   "source": []
  }
 ],
 "metadata": {
  "kernelspec": {
   "display_name": "R [conda env:nsides]",
   "language": "R",
   "name": "conda-env-nsides-r"
  },
  "language_info": {
   "codemirror_mode": "r",
   "file_extension": ".r",
   "mimetype": "text/x-r-source",
   "name": "R",
   "pygments_lexer": "r",
   "version": "3.5.1"
  }
 },
 "nbformat": 4,
 "nbformat_minor": 2
}
