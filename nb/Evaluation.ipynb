{
 "cells": [
  {
   "cell_type": "markdown",
   "metadata": {},
   "source": [
    "# Annotation and Evaluation"
   ]
  },
  {
   "attachments": {},
   "cell_type": "markdown",
   "metadata": {},
   "source": [
    "## Annotation Workflow\n",
    "\n",
    "Based on ShARe guidelines, when annotating a note, the following workflow seems to bring the most reliable annotation:\n",
    "\n",
    "1. Identify all disorder spans in the note  \n",
    "    \n",
    "2. Assign each disorder a SNOMED ID  \n",
    "    \n",
    "3. Annotate each disorder's severity modifier  \n",
    "\n",
    "*Reference: Elhadad N, Savova G, Chapman W, Zaramba G, Harris D, Vogel A, Mowery D, Velupillai S. 2012. ShARe guidelines for the annotation of modifiers for disorders in clinical notes.*\n",
    "\n",
    "\n",
    "\n"
   ]
  },
  {
   "attachments": {},
   "cell_type": "markdown",
   "metadata": {},
   "source": [
    "## Severity Definition\n",
    "The Severity modifier refers to the degree of severity the clinical condition is evaluated to be.  \n",
    "  \n",
    "Definition:  \n",
    "The relative intensity of a process or the relative intensity or amount of a quality or attribute.\n",
    "\n",
    "### Example\n",
    "He noted a **slight** bleeding.  \n",
    "The disorder “bleeding” has a Severity modifier associated with the span “slight” and mapped to “Slight”."
   ]
  },
  {
   "attachments": {},
   "cell_type": "markdown",
   "metadata": {},
   "source": [
    "## Default value\n",
    "By default, a disorder has no Severity modifier associated with it. It is interpreted as “unmarked”.\n"
   ]
  },
  {
   "cell_type": "markdown",
   "metadata": {},
   "source": [
    "## Normalization  \n",
    "A span of text can be mapped to four types of Severity: **unmarked, slight, moderate, and severe.**  \n",
    "  \n",
    "### Example\n",
    "Patient presents with mild sleep apnea.  \n",
    "The disorder “sleep apnea” has a Severity modifier associated with the span “mild” and mapped to “Moderate”."
   ]
  },
  {
   "cell_type": "markdown",
   "metadata": {},
   "source": [
    "## Severity can overlap with or be part of the disorder mention  \n",
    "The span of the severity can be outside, overlapping with, or inside the span of the mention disorder.  \n",
    "  \n",
    "### Example  \n",
    "The patient presented with severe pre-eclempsia  \n",
    "The disorder “severe pre-eclempsia” has the modifier Severity associated with the span “severe” and mapped to “Severe”.\n",
    "  \n",
    "## Severity should be explicit  \n",
    "If inference is required to determine the severity of a disorder, then no Severity modifier should be annotated.  \n",
    "  \n",
    "### Example\n",
    "The patient presented with tiny gallstones.  \n",
    "The disorder “gallstones” has no Severity modifier. The word “tiny” is a qualitative modifier, and mapping it to a severity would require medical inference."
   ]
  },
  {
   "cell_type": "markdown",
   "metadata": {},
   "source": [
    "## Evaluation\n",
    "\n",
    "\n",
    "- To create a gold standard, we manually annotated 100 disorders extracted from clinicaltrials.gov eligibility criteria\n",
    "- Reviewers independently annotated 10% of sample records to assess inter-rater reliability \n",
    "    - Percent agreement = 0.91\n",
    "    - Cohen's k = 0.82\n",
    "- Metamap Performance:\n",
    "    - Accuracy = 0.66\n",
    "- Project Tool Performance:\n",
    "    - Accuracy = 0.62\n",
    "- Metamap-Project Tool:\n",
    "    - Agreement = 0.68"
   ]
  },
  {
   "cell_type": "code",
   "execution_count": null,
   "metadata": {},
   "outputs": [],
   "source": []
  }
 ],
 "metadata": {
  "kernelspec": {
   "display_name": "Python 3",
   "language": "python",
   "name": "python3"
  },
  "language_info": {
   "codemirror_mode": {
    "name": "ipython",
    "version": 3
   },
   "file_extension": ".py",
   "mimetype": "text/x-python",
   "name": "python",
   "nbconvert_exporter": "python",
   "pygments_lexer": "ipython3",
   "version": "3.7.3"
  }
 },
 "nbformat": 4,
 "nbformat_minor": 2
}
