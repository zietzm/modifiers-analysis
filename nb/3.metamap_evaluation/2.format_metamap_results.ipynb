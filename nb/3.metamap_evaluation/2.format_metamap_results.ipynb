{
 "cells": [
  {
   "cell_type": "code",
   "execution_count": 41,
   "metadata": {},
   "outputs": [],
   "source": [
    "import sys\n",
    "\n",
    "import pandas as pd\n",
    "\n",
    "sys.path.insert(0, '../')\n",
    "import map_modifiers"
   ]
  },
  {
   "cell_type": "markdown",
   "metadata": {},
   "source": [
    "# Write UMLS to SNOMED map to disk"
   ]
  },
  {
   "cell_type": "raw",
   "metadata": {},
   "source": [
    "umls_colnames = [\n",
    "    \"CUI\", \"LAT\", \"TS\", \"LUI\", \"STT\", \"SUI\", \"ISPREF\", \n",
    "    \"AUI\", \"SAUI\", \"SCUI\", \"SDUI\", \"SAB\", \"TTY\", \"CODE\", \n",
    "    \"STR\", \"SRL\", \"SUPPRESS\", \"CVF\", \"NONE\"\n",
    "]\n",
    "\n",
    "umls_reader = pd.read_csv(\n",
    "    '/home/mnz2108/Downloads/umls-2019AB-mrconso/MRCONSO.RRF',\n",
    "    sep='|', header=None, chunksize=1_000_000, names=umls_colnames,\n",
    "    dtype=str\n",
    ")\n",
    "\n",
    "for chunk in umls_reader:\n",
    "    chunk = (\n",
    "        chunk\n",
    "        .query('SAB == \"SNOMEDCT_US\" & LAT == \"ENG\"')\n",
    "        .drop(columns=['CVF', 'SUPPRESS', 'SRL', 'LAT', 'SAB',\n",
    "                       'SDUI', 'TS', 'SAUI', 'SCUI', 'AUI', 'LUI',\n",
    "                       'SUI', 'STT', 'NONE', 'TTY'])\n",
    "    )\n",
    "    chunk.to_csv('../data/umls_to_snomed.csv', index=False, mode='a')\n",
    "\n",
    "del chunk"
   ]
  },
  {
   "cell_type": "markdown",
   "metadata": {},
   "source": [
    "# Combine and reduce MetaMap outputs"
   ]
  },
  {
   "cell_type": "code",
   "execution_count": 2,
   "metadata": {
    "scrolled": true
   },
   "outputs": [
    {
     "name": "stderr",
     "output_type": "stream",
     "text": [
      "/home/mnz2108/miniconda3/envs/modifiers/lib/python3.7/site-packages/IPython/core/interactiveshell.py:3051: DtypeWarning: Columns (2) have mixed types. Specify dtype option on import or set low_memory=False.\n",
      "  interactivity=interactivity, compiler=compiler, result=result)\n"
     ]
    },
    {
     "data": {
      "text/html": [
       "<div>\n",
       "<style scoped>\n",
       "    .dataframe tbody tr th:only-of-type {\n",
       "        vertical-align: middle;\n",
       "    }\n",
       "\n",
       "    .dataframe tbody tr th {\n",
       "        vertical-align: top;\n",
       "    }\n",
       "\n",
       "    .dataframe thead th {\n",
       "        text-align: right;\n",
       "    }\n",
       "</style>\n",
       "<table border=\"1\" class=\"dataframe\">\n",
       "  <thead>\n",
       "    <tr style=\"text-align: right;\">\n",
       "      <th></th>\n",
       "      <th>CUI</th>\n",
       "      <th>ISPREF</th>\n",
       "      <th>CODE</th>\n",
       "      <th>STR</th>\n",
       "    </tr>\n",
       "  </thead>\n",
       "  <tbody>\n",
       "    <tr>\n",
       "      <th>0</th>\n",
       "      <td>C0000039</td>\n",
       "      <td>N</td>\n",
       "      <td>102735002</td>\n",
       "      <td>Dipalmitoylphosphatidylcholine</td>\n",
       "    </tr>\n",
       "  </tbody>\n",
       "</table>\n",
       "</div>"
      ],
      "text/plain": [
       "        CUI ISPREF       CODE                             STR\n",
       "0  C0000039      N  102735002  Dipalmitoylphosphatidylcholine"
      ]
     },
     "execution_count": 2,
     "metadata": {},
     "output_type": "execute_result"
    }
   ],
   "source": [
    "umls_to_snomed = pd.read_csv('../data/umls_to_snomed.csv')\n",
    "\n",
    "umls_to_snomed.head(1)"
   ]
  },
  {
   "cell_type": "code",
   "execution_count": 4,
   "metadata": {},
   "outputs": [
    {
     "data": {
      "text/html": [
       "<div>\n",
       "<style scoped>\n",
       "    .dataframe tbody tr th:only-of-type {\n",
       "        vertical-align: middle;\n",
       "    }\n",
       "\n",
       "    .dataframe tbody tr th {\n",
       "        vertical-align: top;\n",
       "    }\n",
       "\n",
       "    .dataframe thead th {\n",
       "        text-align: right;\n",
       "    }\n",
       "</style>\n",
       "<table border=\"1\" class=\"dataframe\">\n",
       "  <thead>\n",
       "    <tr style=\"text-align: right;\">\n",
       "      <th></th>\n",
       "      <th>NCT_id</th>\n",
       "      <th>string</th>\n",
       "      <th>STR</th>\n",
       "      <th>source</th>\n",
       "      <th>mm_match</th>\n",
       "      <th>CODE</th>\n",
       "    </tr>\n",
       "  </thead>\n",
       "  <tbody>\n",
       "    <tr>\n",
       "      <th>0</th>\n",
       "      <td>NCT00000456</td>\n",
       "      <td>for disorders of major depression panic disord...</td>\n",
       "      <td>Obsessive compulsive disorder</td>\n",
       "      <td>hrn</td>\n",
       "      <td>1.38</td>\n",
       "      <td>71478004</td>\n",
       "    </tr>\n",
       "    <tr>\n",
       "      <th>1</th>\n",
       "      <td>NCT00000456</td>\n",
       "      <td>for disorders of major depression panic disord...</td>\n",
       "      <td>Obsessive compulsive disorder</td>\n",
       "      <td>hrn</td>\n",
       "      <td>1.38</td>\n",
       "      <td>191736004</td>\n",
       "    </tr>\n",
       "  </tbody>\n",
       "</table>\n",
       "</div>"
      ],
      "text/plain": [
       "        NCT_id                                             string  \\\n",
       "0  NCT00000456  for disorders of major depression panic disord...   \n",
       "1  NCT00000456  for disorders of major depression panic disord...   \n",
       "\n",
       "                             STR source  mm_match       CODE  \n",
       "0  Obsessive compulsive disorder    hrn      1.38   71478004  \n",
       "1  Obsessive compulsive disorder    hrn      1.38  191736004  "
      ]
     },
     "execution_count": 4,
     "metadata": {},
     "output_type": "execute_result"
    }
   ],
   "source": [
    "colnames = ['match', 'method', 'mm_match', 'string_name',\n",
    "            'cui', 'semantic_abbrev', 'text', 'something',\n",
    "            'mesh']\n",
    "\n",
    "combined_df = pd.DataFrame()\n",
    "for source in ['hrn', 'uog']:\n",
    "    input_df = pd.read_csv(\n",
    "        f'../data/metamap/inputs/{source}_input.txt', \n",
    "        sep='|', header=None, names=['match', 'string']\n",
    "    )\n",
    "    \n",
    "    output_df = (\n",
    "        pd.read_csv(\n",
    "            f'../data/metamap/outputs/{source}_input.txt', \n",
    "            sep='|', header=None, names=colnames, \n",
    "        )\n",
    "        .assign(\n",
    "            NCT_id=lambda df: df['match'].apply(lambda s: s.split('$')[0].upper()),\n",
    "            matched_synonym=lambda df: df['match'].apply(lambda s: s.split('$')[1]),\n",
    "            match_start_index=lambda df: df['match'].apply(lambda s: s.split('$')[2]),\n",
    "        )\n",
    "        .filter(items=['NCT_id', 'matched_synonym', 'text', 'mm_match', 'match', 'cui'])\n",
    "    )\n",
    "\n",
    "    combined_df = pd.concat([\n",
    "        combined_df,\n",
    "        input_df\n",
    "        .merge(output_df, on='match')\n",
    "        .filter(items=['NCT_id', 'string', 'mm_match', 'cui'])\n",
    "        .assign(source=source)\n",
    "    ])\n",
    "\n",
    "combined_df = (\n",
    "    combined_df\n",
    "    .merge(umls_to_snomed, left_on='cui', right_on='CUI', \n",
    "           how='left')\n",
    "    .filter(items=['NCT_id', 'string', 'STR', 'source', 'mm_match', 'CODE'])\n",
    ")\n",
    "\n",
    "combined_df.to_csv('../data/metamap/combined_outputs.csv', index=False)\n",
    "\n",
    "combined_df.head(2)"
   ]
  }
 ],
 "metadata": {
  "kernelspec": {
   "display_name": "Python [conda env:modifiers] *",
   "language": "python",
   "name": "conda-env-modifiers-py"
  },
  "language_info": {
   "codemirror_mode": {
    "name": "ipython",
    "version": 3
   },
   "file_extension": ".py",
   "mimetype": "text/x-python",
   "name": "python",
   "nbconvert_exporter": "python",
   "pygments_lexer": "ipython3",
   "version": "3.7.3"
  }
 },
 "nbformat": 4,
 "nbformat_minor": 2
}
