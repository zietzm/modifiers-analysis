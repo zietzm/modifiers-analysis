{
 "cells": [
  {
   "cell_type": "code",
   "execution_count": 1,
   "metadata": {},
   "outputs": [
    {
     "name": "stderr",
     "output_type": "stream",
     "text": [
      "── Attaching packages ─────────────────────────────────────── tidyverse 1.2.1 ──\n",
      "✔ ggplot2 3.2.1     ✔ purrr   0.3.3\n",
      "✔ tibble  2.1.3     ✔ dplyr   0.8.3\n",
      "✔ tidyr   1.0.0     ✔ stringr 1.4.0\n",
      "✔ readr   1.3.1     ✔ forcats 0.4.0\n",
      "── Conflicts ────────────────────────────────────────── tidyverse_conflicts() ──\n",
      "✖ dplyr::filter() masks stats::filter()\n",
      "✖ dplyr::lag()    masks stats::lag()\n"
     ]
    }
   ],
   "source": [
    "library(tidyverse)"
   ]
  },
  {
   "cell_type": "code",
   "execution_count": 2,
   "metadata": {},
   "outputs": [],
   "source": [
    "compute_acc <- function(annotated_df) {\n",
    "    annotated_df %>%\n",
    "    left_join(mm_df, by = c('NCT_id', 'snomed_id' = 'CODE')) %>%\n",
    "    group_by(NCT_id, matched_string, manual_string, criteria_string, snomed_id, pre_post) %>%\n",
    "    # Multiple matches as mm_df will include all synonyms as separate rows. \n",
    "    #  Only care if not NA, so just take the first row in each group.\n",
    "    summarize(\n",
    "        match = first(STR)\n",
    "    ) %>%\n",
    "    ungroup() %>%\n",
    "    summarize(\n",
    "        n_total = n(),\n",
    "        n_snomed_nan = sum(snomed_id == 'N/A'),\n",
    "        n_str_nan = sum(is.na(match)),\n",
    "        n_same = sum(!is.na(match)),\n",
    "        acc = n_same / n_total\n",
    "    )\n",
    "}"
   ]
  },
  {
   "cell_type": "code",
   "execution_count": 3,
   "metadata": {},
   "outputs": [
    {
     "name": "stderr",
     "output_type": "stream",
     "text": [
      "Warning message:\n",
      "“Missing column names filled in: 'X13' [13]”"
     ]
    }
   ],
   "source": [
    "# Metamap outputs combined from Harry and Undina's annotated sample\n",
    "mm_df <- read_csv('../data/metamap/combined_outputs.csv',\n",
    "                   col_types = cols(.default = \"c\")) \n",
    "\n",
    "# Harry's \"gold standard\"\n",
    "hrn_df <- read_csv('../data/annotations/annotate_notes_hr2479.csv',\n",
    "                   col_types = cols(.default = \"c\")) %>%\n",
    "    select(NCT_id, matched_string, manual_string, criteria_string, snomed_id, pre_post)\n",
    "\n",
    "# Undina's \"gold standard\"\n",
    "uog_df <- read_csv('../data/annotations/annotate_notes_uog.csv',\n",
    "                   col_types = cols(.default = \"c\")) %>%\n",
    "    select(NCT_id, matched_string, manual_string, criteria_string, snomed_id, pre_post) %>%\n",
    "    drop_na(NCT_id)"
   ]
  },
  {
   "cell_type": "code",
   "execution_count": 4,
   "metadata": {},
   "outputs": [
    {
     "data": {
      "text/html": [
       "<table>\n",
       "<caption>A tibble: 3 × 6</caption>\n",
       "<thead>\n",
       "\t<tr><th scope=col>n_total</th><th scope=col>n_snomed_nan</th><th scope=col>n_str_nan</th><th scope=col>n_same</th><th scope=col>acc</th><th scope=col>source</th></tr>\n",
       "\t<tr><th scope=col>&lt;int&gt;</th><th scope=col>&lt;int&gt;</th><th scope=col>&lt;int&gt;</th><th scope=col>&lt;int&gt;</th><th scope=col>&lt;dbl&gt;</th><th scope=col>&lt;chr&gt;</th></tr>\n",
       "</thead>\n",
       "<tbody>\n",
       "\t<tr><td>420</td><td>11</td><td>129</td><td>291</td><td>0.6928571</td><td>HRN </td></tr>\n",
       "\t<tr><td>420</td><td> 0</td><td> 90</td><td>330</td><td>0.7857143</td><td>UOG </td></tr>\n",
       "\t<tr><td>797</td><td>11</td><td>213</td><td>584</td><td>0.7327478</td><td>BOTH</td></tr>\n",
       "</tbody>\n",
       "</table>\n"
      ],
      "text/latex": [
       "A tibble: 3 × 6\n",
       "\\begin{tabular}{r|llllll}\n",
       " n\\_total & n\\_snomed\\_nan & n\\_str\\_nan & n\\_same & acc & source\\\\\n",
       " <int> & <int> & <int> & <int> & <dbl> & <chr>\\\\\n",
       "\\hline\n",
       "\t 420 & 11 & 129 & 291 & 0.6928571 & HRN \\\\\n",
       "\t 420 &  0 &  90 & 330 & 0.7857143 & UOG \\\\\n",
       "\t 797 & 11 & 213 & 584 & 0.7327478 & BOTH\\\\\n",
       "\\end{tabular}\n"
      ],
      "text/markdown": [
       "\n",
       "A tibble: 3 × 6\n",
       "\n",
       "| n_total &lt;int&gt; | n_snomed_nan &lt;int&gt; | n_str_nan &lt;int&gt; | n_same &lt;int&gt; | acc &lt;dbl&gt; | source &lt;chr&gt; |\n",
       "|---|---|---|---|---|---|\n",
       "| 420 | 11 | 129 | 291 | 0.6928571 | HRN  |\n",
       "| 420 |  0 |  90 | 330 | 0.7857143 | UOG  |\n",
       "| 797 | 11 | 213 | 584 | 0.7327478 | BOTH |\n",
       "\n"
      ],
      "text/plain": [
       "  n_total n_snomed_nan n_str_nan n_same acc       source\n",
       "1 420     11           129       291    0.6928571 HRN   \n",
       "2 420      0            90       330    0.7857143 UOG   \n",
       "3 797     11           213       584    0.7327478 BOTH  "
      ]
     },
     "metadata": {},
     "output_type": "display_data"
    }
   ],
   "source": [
    "bind_rows(\n",
    "    compute_acc(hrn_df) %>% mutate(source = 'HRN'),\n",
    "    compute_acc(uog_df) %>% mutate(source = 'UOG'),\n",
    "    compute_acc(bind_rows(hrn_df, uog_df)) %>% mutate(source = 'BOTH')\n",
    ")"
   ]
  }
 ],
 "metadata": {
  "kernelspec": {
   "display_name": "R [conda env:powerup]",
   "language": "R",
   "name": "conda-env-powerup-r"
  },
  "language_info": {
   "codemirror_mode": "r",
   "file_extension": ".r",
   "mimetype": "text/x-r-source",
   "name": "R",
   "pygments_lexer": "r",
   "version": "3.5.1"
  }
 },
 "nbformat": 4,
 "nbformat_minor": 2
}
