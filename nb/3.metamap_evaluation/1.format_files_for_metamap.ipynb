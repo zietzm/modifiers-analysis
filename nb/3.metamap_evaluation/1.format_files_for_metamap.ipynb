{
 "cells": [
  {
   "cell_type": "code",
   "execution_count": 1,
   "metadata": {},
   "outputs": [],
   "source": [
    "import sys\n",
    "\n",
    "import pandas as pd\n",
    "\n",
    "sys.path.insert(0, '../')\n",
    "import map_modifiers"
   ]
  },
  {
   "cell_type": "code",
   "execution_count": 2,
   "metadata": {},
   "outputs": [],
   "source": [
    "def format_strings_for_metamap(df, output_file_path):\n",
    "    criteria_strings = (\n",
    "        df[['NCT_id', 'matched_string', 'criteria_string']]\n",
    "        .dropna()\n",
    "        .drop_duplicates()\n",
    "        .applymap(map_modifiers.utils.normalize_text)\n",
    "        .values\n",
    "        .tolist()\n",
    "    )\n",
    "\n",
    "    criteria_strings = [\n",
    "        (\n",
    "            tup[0], '_'.join(tup[1].split(' ')), tup[2].index(tup[1]),\n",
    "            map_modifiers.recognize_parents.get_word_margin(tup[2], tup[1], 5),\n",
    "        ) \n",
    "        for tup in criteria_strings\n",
    "        if tup[1] in tup[2]\n",
    "    ]\n",
    "\n",
    "    with open(output_file_path, 'w') as f:\n",
    "        f.writelines(\n",
    "            f'{nct_id}${match}${ind}|{string[0]}\\n' \n",
    "            for nct_id, match, ind, string in criteria_strings\n",
    "        )"
   ]
  },
  {
   "cell_type": "code",
   "execution_count": 3,
   "metadata": {},
   "outputs": [],
   "source": [
    "uog_df = pd.read_csv('../data/annotations/annotate_notes_uog.csv')\n",
    "format_strings_for_metamap(uog_df, '../data/metamap/inputs/uog_input.txt')"
   ]
  },
  {
   "cell_type": "code",
   "execution_count": 4,
   "metadata": {},
   "outputs": [],
   "source": [
    "hrn_df = pd.read_csv('../data/annotations/annotate_notes_hr2479.csv')\n",
    "format_strings_for_metamap(hrn_df, '../data/metamap/inputs/hrn_input.txt')"
   ]
  }
 ],
 "metadata": {
  "kernelspec": {
   "display_name": "Python [conda env:modifiers] *",
   "language": "python",
   "name": "conda-env-modifiers-py"
  },
  "language_info": {
   "codemirror_mode": {
    "name": "ipython",
    "version": 3
   },
   "file_extension": ".py",
   "mimetype": "text/x-python",
   "name": "python",
   "nbconvert_exporter": "python",
   "pygments_lexer": "ipython3",
   "version": "3.7.3"
  }
 },
 "nbformat": 4,
 "nbformat_minor": 2
}
