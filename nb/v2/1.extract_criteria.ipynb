{
 "cells": [
  {
   "cell_type": "markdown",
   "metadata": {},
   "source": [
    "# Extract criteria\n",
    "\n",
    "This notebook extracts clinical trials eligibility criteria from all clinical trials and saves it to a single LZMA compressed (`.xz`) `.tsv` file.\n",
    "The resulting file (`data/outputs/trial_eligibility_criteria.tsv.xz`) has two columns: NCT_ID and eligibility_criteria.\n",
    "Eligibility criteria are normalized using `map_modifiers.normalize.normalize()` and retain spaces within the strings."
   ]
  },
  {
   "cell_type": "code",
   "execution_count": 1,
   "metadata": {},
   "outputs": [],
   "source": [
    "import concurrent.futures\n",
    "import lzma\n",
    "import pathlib\n",
    "import xml.etree.ElementTree as ET\n",
    "\n",
    "import tqdm.notebook\n",
    "\n",
    "import map_modifiers"
   ]
  },
  {
   "cell_type": "code",
   "execution_count": 2,
   "metadata": {},
   "outputs": [],
   "source": [
    "def xml_file_to_text(file_path):\n",
    "    \"\"\"\n",
    "    Extract the eligibility criteria string from an XML file\n",
    "    describing a clinical trial.\n",
    "    \"\"\"\n",
    "    tree = ET.parse(file_path)\n",
    "    root = tree.getroot()\n",
    "    \n",
    "    try:\n",
    "        eligibility_text = (\n",
    "            root\n",
    "            .find('eligibility/criteria/textblock')\n",
    "            .text\n",
    "            .strip()\n",
    "        )\n",
    "    except AttributeError:\n",
    "        return ''\n",
    "    return eligibility_text\n",
    "\n",
    "\n",
    "def file_to_final_text(file_path):\n",
    "    \"\"\"\n",
    "    Extract criteria string, normalize it, and output a list like\n",
    "    [(NCT_ID, normalized_criteria), ...]\n",
    "    \"\"\"\n",
    "    raw_text = xml_file_to_text(file_path)\n",
    "    trial_id = file_path.stem\n",
    "    return (trial_id, map_modifiers.normalize.normalize(raw_text))"
   ]
  },
  {
   "cell_type": "code",
   "execution_count": 3,
   "metadata": {},
   "outputs": [
    {
     "data": {
      "text/plain": [
       "330113"
      ]
     },
     "execution_count": 3,
     "metadata": {},
     "output_type": "execute_result"
    }
   ],
   "source": [
    "trials_root = pathlib.Path('../../data/raw/clinical_trials_gov/')\n",
    "\n",
    "trial_files = list(trials_root.glob('*/*.xml'))\n",
    "\n",
    "len(trial_files)"
   ]
  },
  {
   "cell_type": "code",
   "execution_count": 4,
   "metadata": {},
   "outputs": [
    {
     "data": {
      "application/vnd.jupyter.widget-view+json": {
       "model_id": "070736f5d6c2445aa608fe2af7666c2b",
       "version_major": 2,
       "version_minor": 0
      },
      "text/plain": [
       "HBox(children=(FloatProgress(value=0.0, max=330113.0), HTML(value='')))"
      ]
     },
     "metadata": {},
     "output_type": "display_data"
    },
    {
     "name": "stdout",
     "output_type": "stream",
     "text": [
      "\n"
     ]
    }
   ],
   "source": [
    "with concurrent.futures.ProcessPoolExecutor() as executor:\n",
    "    outputs = list(tqdm.notebook.tqdm(\n",
    "        executor.map(file_to_final_text, trial_files), total=len(trial_files)\n",
    "    ))"
   ]
  },
  {
   "cell_type": "code",
   "execution_count": 5,
   "metadata": {},
   "outputs": [],
   "source": [
    "# Write a copy of the file using LZMA compression    \n",
    "with lzma.open('../../data/outputs/trial_eligibility_criteria.tsv.xz', 'w') as f:\n",
    "    f.write(b'NCT_ID\\teligibility_criteria\\n')\n",
    "    for line in outputs:\n",
    "        f.write(bytes(('\\t'.join(line) + '\\n').encode('utf-8')))"
   ]
  }
 ],
 "metadata": {
  "kernelspec": {
   "display_name": "Python [conda env:modifiers]",
   "language": "python",
   "name": "conda-env-modifiers-py"
  },
  "language_info": {
   "codemirror_mode": {
    "name": "ipython",
    "version": 3
   },
   "file_extension": ".py",
   "mimetype": "text/x-python",
   "name": "python",
   "nbconvert_exporter": "python",
   "pygments_lexer": "ipython3",
   "version": "3.7.6"
  }
 },
 "nbformat": 4,
 "nbformat_minor": 4
}
