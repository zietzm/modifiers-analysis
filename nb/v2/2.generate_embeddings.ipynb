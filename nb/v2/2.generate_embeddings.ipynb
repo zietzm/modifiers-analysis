{
 "cells": [
  {
   "cell_type": "markdown",
   "metadata": {},
   "source": [
    "# Generate embeddings\n",
    "\n",
    "We generate embeddings using held-out training data.\n",
    "This way, when we later evaluate out method in full, testing data will never have been seen by the word embedding method.\n",
    "We split train/test using NCT IDs from the manual annotations by Harry and Undina as the test data.\n",
    "All other NCT IDs represent training data."
   ]
  },
  {
   "cell_type": "code",
   "execution_count": 1,
   "metadata": {},
   "outputs": [],
   "source": [
    "import csv\n",
    "import lzma\n",
    "import pathlib\n",
    "\n",
    "import gensim\n",
    "import pandas as pd"
   ]
  },
  {
   "cell_type": "code",
   "execution_count": 2,
   "metadata": {},
   "outputs": [],
   "source": [
    "uog_df = pd.read_csv('../../data/annotations/annotate_notes_uog.csv')\n",
    "hrn_df = pd.read_csv('../../data/annotations/annotate_notes_hr2479.csv')\n",
    "\n",
    "uog_nct_id = set(uog_df['NCT_id'].dropna())\n",
    "hrn_nct_id = set(hrn_df['NCT_id'].dropna())\n",
    "\n",
    "annotated_nct_id = uog_nct_id.union(hrn_nct_id)"
   ]
  },
  {
   "cell_type": "code",
   "execution_count": 3,
   "metadata": {},
   "outputs": [
    {
     "name": "stdout",
     "output_type": "stream",
     "text": [
      "['NCT_ID', 'eligibility_criteria']\n"
     ]
    }
   ],
   "source": [
    "computed_data_root = pathlib.Path('../../data/outputs/')\n",
    "criteria_file = computed_data_root.joinpath('trial_eligibility_criteria.tsv.xz')\n",
    "\n",
    "train_nct = list()\n",
    "test_nct = list()\n",
    "\n",
    "train_criteria = list()\n",
    "test_criteria = list()\n",
    "\n",
    "with lzma.open(criteria_file, 'rt', newline='\\n') as f:\n",
    "    reader = csv.reader(f, delimiter='\\t')\n",
    "    print(next(reader))\n",
    "    for nct_id, criteria_string in reader:\n",
    "        if nct_id in annotated_nct_id:\n",
    "            test_nct.append(nct_id)\n",
    "            test_criteria.append(criteria_string)\n",
    "        else:\n",
    "            train_nct.append(nct_id)\n",
    "            train_criteria.append(criteria_string)"
   ]
  },
  {
   "cell_type": "code",
   "execution_count": 4,
   "metadata": {},
   "outputs": [],
   "source": [
    "# Save training data\n",
    "with open(computed_data_root.joinpath('train_nct.txt'), 'w') as f:\n",
    "    for nct in train_nct:\n",
    "        f.write(nct + '\\n')\n",
    "        \n",
    "with open(computed_data_root.joinpath('train_criteria.txt'), 'w') as f:\n",
    "    for criterium in train_criteria:\n",
    "        f.write(criterium + '\\n')\n",
    "\n",
    "# Save testing data\n",
    "with open(computed_data_root.joinpath('test_nct.txt'), 'w') as f:\n",
    "    for nct in test_nct:\n",
    "        f.write(nct + '\\n')\n",
    "        \n",
    "with open(computed_data_root.joinpath('test_criteria.txt'), 'w') as f:\n",
    "    for criterium in test_criteria:\n",
    "        f.write(criterium + '\\n')"
   ]
  },
  {
   "cell_type": "code",
   "execution_count": 5,
   "metadata": {},
   "outputs": [],
   "source": [
    "w2v_model = gensim.models.Word2Vec(\n",
    "    corpus_file=computed_data_root.joinpath('train_criteria.txt').as_posix(),\n",
    "    size=200, window=5, min_count=5, workers=6, sg=1, hs=1, seed=100,\n",
    "    max_vocab_size=None, max_final_vocab=None,\n",
    ")\n",
    "\n",
    "w2v_model.save('../../data/models/word2vec.model')\n",
    "\n",
    "\n",
    "d2v_model = gensim.models.Doc2Vec(\n",
    "    corpus_file=computed_data_root.joinpath('train_criteria.txt').as_posix(),\n",
    "    dm=0,\n",
    "    vector_size=100,\n",
    "    seed=100,\n",
    "    workers=6,\n",
    "    min_count=5,\n",
    "    max_vocab_size=None,\n",
    ")\n",
    "    \n",
    "d2v_model.save('../../data/models/doc2vec.model')"
   ]
  }
 ],
 "metadata": {
  "kernelspec": {
   "display_name": "Python [conda env:modifiers]",
   "language": "python",
   "name": "conda-env-modifiers-py"
  },
  "language_info": {
   "codemirror_mode": {
    "name": "ipython",
    "version": 3
   },
   "file_extension": ".py",
   "mimetype": "text/x-python",
   "name": "python",
   "nbconvert_exporter": "python",
   "pygments_lexer": "ipython3",
   "version": "3.7.6"
  }
 },
 "nbformat": 4,
 "nbformat_minor": 4
}
