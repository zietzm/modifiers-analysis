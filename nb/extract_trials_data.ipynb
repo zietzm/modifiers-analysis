{
 "cells": [
  {
   "cell_type": "code",
   "execution_count": 1,
   "metadata": {},
   "outputs": [],
   "source": [
    "import concurrent.futures\n",
    "import functools\n",
    "import pathlib\n",
    "import xml.etree.ElementTree as ET\n",
    "\n",
    "import pandas as pd\n",
    "import tqdm"
   ]
  },
  {
   "cell_type": "markdown",
   "metadata": {},
   "source": [
    "## Format parents for searching"
   ]
  },
  {
   "cell_type": "code",
   "execution_count": 2,
   "metadata": {
    "scrolled": true
   },
   "outputs": [
    {
     "data": {
      "text/html": [
       "<div>\n",
       "<style scoped>\n",
       "    .dataframe tbody tr th:only-of-type {\n",
       "        vertical-align: middle;\n",
       "    }\n",
       "\n",
       "    .dataframe tbody tr th {\n",
       "        vertical-align: top;\n",
       "    }\n",
       "\n",
       "    .dataframe thead th {\n",
       "        text-align: right;\n",
       "    }\n",
       "</style>\n",
       "<table border=\"1\" class=\"dataframe\">\n",
       "  <thead>\n",
       "    <tr style=\"text-align: right;\">\n",
       "      <th></th>\n",
       "      <th>parent_concept_id</th>\n",
       "      <th>parent_concept_name</th>\n",
       "      <th>parent_concept_code</th>\n",
       "      <th>concept_synonym_name</th>\n",
       "    </tr>\n",
       "  </thead>\n",
       "  <tbody>\n",
       "    <tr>\n",
       "      <th>0</th>\n",
       "      <td>4039266.0</td>\n",
       "      <td>Dry skin</td>\n",
       "      <td>16386004.0</td>\n",
       "      <td>Anhydrotic skin</td>\n",
       "    </tr>\n",
       "    <tr>\n",
       "      <th>1</th>\n",
       "      <td>4039266.0</td>\n",
       "      <td>Dry skin</td>\n",
       "      <td>16386004.0</td>\n",
       "      <td>Dry skin (finding)</td>\n",
       "    </tr>\n",
       "    <tr>\n",
       "      <th>2</th>\n",
       "      <td>4039266.0</td>\n",
       "      <td>Dry skin</td>\n",
       "      <td>16386004.0</td>\n",
       "      <td>Dry skin</td>\n",
       "    </tr>\n",
       "    <tr>\n",
       "      <th>3</th>\n",
       "      <td>443432.0</td>\n",
       "      <td>Impaired cognition</td>\n",
       "      <td>386806002.0</td>\n",
       "      <td>Cognitive disturbance</td>\n",
       "    </tr>\n",
       "    <tr>\n",
       "      <th>4</th>\n",
       "      <td>443432.0</td>\n",
       "      <td>Impaired cognition</td>\n",
       "      <td>386806002.0</td>\n",
       "      <td>Cognitive dysfunction</td>\n",
       "    </tr>\n",
       "  </tbody>\n",
       "</table>\n",
       "</div>"
      ],
      "text/plain": [
       "   parent_concept_id parent_concept_name  parent_concept_code  \\\n",
       "0          4039266.0            Dry skin           16386004.0   \n",
       "1          4039266.0            Dry skin           16386004.0   \n",
       "2          4039266.0            Dry skin           16386004.0   \n",
       "3           443432.0  Impaired cognition          386806002.0   \n",
       "4           443432.0  Impaired cognition          386806002.0   \n",
       "\n",
       "    concept_synonym_name  \n",
       "0        Anhydrotic skin  \n",
       "1     Dry skin (finding)  \n",
       "2               Dry skin  \n",
       "3  Cognitive disturbance  \n",
       "4  Cognitive dysfunction  "
      ]
     },
     "execution_count": 2,
     "metadata": {},
     "output_type": "execute_result"
    }
   ],
   "source": [
    "parents_df = pd.read_csv('../data/computed/parents_synonyms.tsv', sep='\\t').dropna()\n",
    "\n",
    "parents_df.head()"
   ]
  },
  {
   "cell_type": "code",
   "execution_count": 3,
   "metadata": {},
   "outputs": [],
   "source": [
    "parent_synonyms_to_parent_concept_id = (\n",
    "    parents_df\n",
    "    .assign(\n",
    "        concept_synonym_name = lambda df: df['concept_synonym_name'].apply(lambda x: x.lower()),\n",
    "        parent_concept_id = lambda df: df['parent_concept_id'].astype(int),\n",
    "    )\n",
    "    .set_index('concept_synonym_name')\n",
    "    .loc[:, 'parent_concept_id']\n",
    "    .to_dict()\n",
    ")\n",
    "\n",
    "# Parent concept_ids to parent concept names\n",
    "concept_id_to_name = (\n",
    "    parents_df\n",
    "    .assign(\n",
    "        parent_concept_id = lambda df: df['parent_concept_id'].astype(int),\n",
    "    )\n",
    "    .set_index('parent_concept_id')\n",
    "    .loc[:, 'parent_concept_name']\n",
    "    .to_dict()\n",
    ")"
   ]
  },
  {
   "cell_type": "markdown",
   "metadata": {},
   "source": [
    "## Search files by lines"
   ]
  },
  {
   "cell_type": "code",
   "execution_count": 4,
   "metadata": {},
   "outputs": [
    {
     "data": {
      "text/plain": [
       "320611"
      ]
     },
     "execution_count": 4,
     "metadata": {},
     "output_type": "execute_result"
    }
   ],
   "source": [
    "trials_root = pathlib.Path('../data/AllPublicXML/')\n",
    "\n",
    "trial_files = list(trials_root.glob('*/*.xml'))\n",
    "\n",
    "len(trial_files)"
   ]
  },
  {
   "cell_type": "code",
   "execution_count": 5,
   "metadata": {},
   "outputs": [],
   "source": [
    "def xml_file_to_text(file_path):\n",
    "    \"\"\"\n",
    "    Extract the eligibility criteria string from an XML file\n",
    "    describing a clinical trial.\n",
    "    \"\"\"\n",
    "    tree = ET.parse(file_path)\n",
    "    root = tree.getroot()\n",
    "    \n",
    "    try:\n",
    "        eligibility_text = (\n",
    "            root\n",
    "            .find('eligibility/criteria/textblock')\n",
    "            .text\n",
    "            .strip()\n",
    "        )\n",
    "    except AttributeError:\n",
    "        return ''\n",
    "    return eligibility_text\n",
    "\n",
    "\n",
    "def extract_concepts_one_file(file_path, concept_string_to_id, concept_id_to_name):\n",
    "    \"\"\"\n",
    "    Extract concepts from a clinical trial's eligibility criteria.\n",
    "    Extracted concepts are only those which are direct parents of \n",
    "    concepts with chosen severity modifiers.\n",
    "    \n",
    "    Parameters\n",
    "    ----------\n",
    "    file_path : pathlib.Path\n",
    "        Path to the XML file for a single clinical trial.\n",
    "    concept_string_to_id : Dict[str, int]\n",
    "        Many-to-one map between synonyms for a concept and the concept ID.\n",
    "        These strings are matched in the eligibility criteria text (without\n",
    "        newlines, spaces, or upper/lowercase distinctions).\n",
    "    concept_id_to_name : Dict[int, str]\n",
    "        One-to-one map between a concept's ID and its concept name.\n",
    "    \"\"\"\n",
    "    text = xml_file_to_text(file_path)\n",
    "    nct_id = file_path.stem\n",
    "    \n",
    "    # Get all concepts that are found with full space, newline strips\n",
    "    matched_parent_concepts = [\n",
    "        (name, concept_id) \n",
    "        for name, concept_id in concept_string_to_id.items() \n",
    "        if name.replace(' ', '') in text.lower().replace('\\n', '').replace(' ', '')\n",
    "    ]\n",
    "    \n",
    "    outputs = list()\n",
    "    for name, concept_id in matched_parent_concepts:\n",
    "        try:\n",
    "            start_index = text.lower().replace('\\n', '').index(name)\n",
    "        except ValueError:\n",
    "            try:\n",
    "                start_index = (text.lower().replace('\\n', '').replace('  ', ' ')\n",
    "                               .index(name.replace('  ', ' ')))\n",
    "            except ValueError:\n",
    "                continue\n",
    "        concept_name = concept_id_to_name[concept_id]\n",
    "        outputs.append(\n",
    "            (nct_id, name, text[max(start_index - 100, 0):start_index + 100],\n",
    "             concept_id, concept_name)\n",
    "        )\n",
    "    return outputs"
   ]
  },
  {
   "cell_type": "code",
   "execution_count": 6,
   "metadata": {},
   "outputs": [
    {
     "data": {
      "application/vnd.jupyter.widget-view+json": {
       "model_id": "d1b3468221bf48a59b0f2775bdb9bd48",
       "version_major": 2,
       "version_minor": 0
      },
      "text/plain": [
       "HBox(children=(IntProgress(value=0, max=320611), HTML(value='')))"
      ]
     },
     "metadata": {},
     "output_type": "display_data"
    },
    {
     "name": "stdout",
     "output_type": "stream",
     "text": [
      "\n"
     ]
    }
   ],
   "source": [
    "extract_wrapper = functools.partial(\n",
    "    extract_concepts_one_file,\n",
    "    concept_string_to_id=parent_synonyms_to_parent_concept_id, \n",
    "    concept_id_to_name=concept_id_to_name,\n",
    ")\n",
    "\n",
    "with concurrent.futures.ProcessPoolExecutor() as executor:\n",
    "    output_lists = list(tqdm.tqdm_notebook(\n",
    "        executor.map(extract_wrapper, trial_files), total=len(trial_files)\n",
    "    ))\n",
    "\n",
    "# Flatten list of lists of tuples to list of tuples\n",
    "outputs = [i for l in output_lists for i in l]\n",
    "\n",
    "\n",
    "# Above is equivalent to the following:\n",
    "\n",
    "# outputs = list()\n",
    "# for file in tqdm.tqdm_notebook(trial_files):\n",
    "#     concepts = extract_concepts_one_file(file, parent_synonyms_to_parent_concept_id, \n",
    "#                                          concept_id_to_name)\n",
    "#     outputs.extend(concepts)   "
   ]
  },
  {
   "cell_type": "code",
   "execution_count": 7,
   "metadata": {},
   "outputs": [
    {
     "data": {
      "text/html": [
       "<div>\n",
       "<style scoped>\n",
       "    .dataframe tbody tr th:only-of-type {\n",
       "        vertical-align: middle;\n",
       "    }\n",
       "\n",
       "    .dataframe tbody tr th {\n",
       "        vertical-align: top;\n",
       "    }\n",
       "\n",
       "    .dataframe thead th {\n",
       "        text-align: right;\n",
       "    }\n",
       "</style>\n",
       "<table border=\"1\" class=\"dataframe\">\n",
       "  <thead>\n",
       "    <tr style=\"text-align: right;\">\n",
       "      <th></th>\n",
       "      <th>NCT_id</th>\n",
       "      <th>matched_string</th>\n",
       "      <th>criteria_string</th>\n",
       "      <th>parent_concept_id</th>\n",
       "      <th>parent_concept_name</th>\n",
       "    </tr>\n",
       "  </thead>\n",
       "  <tbody>\n",
       "    <tr>\n",
       "      <th>0</th>\n",
       "      <td>NCT01828931</td>\n",
       "      <td>psychotic disorder</td>\n",
       "      <td>1. Between the ages of 18 and 70 years (i...</td>\n",
       "      <td>436073</td>\n",
       "      <td>Psychotic disorder</td>\n",
       "    </tr>\n",
       "    <tr>\n",
       "      <th>1</th>\n",
       "      <td>NCT01829815</td>\n",
       "      <td>disability</td>\n",
       "      <td>-  Resident in one of five study sit...</td>\n",
       "      <td>4052648</td>\n",
       "      <td>Disability</td>\n",
       "    </tr>\n",
       "    <tr>\n",
       "      <th>2</th>\n",
       "      <td>NCT01823770</td>\n",
       "      <td>scid</td>\n",
       "      <td>e referred for a structured clinical\\n        ...</td>\n",
       "      <td>29783</td>\n",
       "      <td>Severe combined immunodeficiency disease</td>\n",
       "    </tr>\n",
       "    <tr>\n",
       "      <th>3</th>\n",
       "      <td>NCT01823770</td>\n",
       "      <td>painful</td>\n",
       "      <td>tor.\\n\\n               4. Subject has addition...</td>\n",
       "      <td>4329041</td>\n",
       "      <td>Pain</td>\n",
       "    </tr>\n",
       "    <tr>\n",
       "      <th>4</th>\n",
       "      <td>NCT01823770</td>\n",
       "      <td>pain</td>\n",
       "      <td>tor.\\n\\n               4. Subject has addition...</td>\n",
       "      <td>4329041</td>\n",
       "      <td>Pain</td>\n",
       "    </tr>\n",
       "  </tbody>\n",
       "</table>\n",
       "</div>"
      ],
      "text/plain": [
       "        NCT_id      matched_string  \\\n",
       "0  NCT01828931  psychotic disorder   \n",
       "1  NCT01829815          disability   \n",
       "2  NCT01823770                scid   \n",
       "3  NCT01823770             painful   \n",
       "4  NCT01823770                pain   \n",
       "\n",
       "                                     criteria_string  parent_concept_id  \\\n",
       "0       1. Between the ages of 18 and 70 years (i...             436073   \n",
       "1            -  Resident in one of five study sit...            4052648   \n",
       "2  e referred for a structured clinical\\n        ...              29783   \n",
       "3  tor.\\n\\n               4. Subject has addition...            4329041   \n",
       "4  tor.\\n\\n               4. Subject has addition...            4329041   \n",
       "\n",
       "                        parent_concept_name  \n",
       "0                        Psychotic disorder  \n",
       "1                                Disability  \n",
       "2  Severe combined immunodeficiency disease  \n",
       "3                                      Pain  \n",
       "4                                      Pain  "
      ]
     },
     "execution_count": 7,
     "metadata": {},
     "output_type": "execute_result"
    }
   ],
   "source": [
    "all_trials_df = pd.DataFrame(outputs, columns=['NCT_id', 'matched_string', \n",
    "                                               'criteria_string',\n",
    "                                               'parent_concept_id', \n",
    "                                               'parent_concept_name'])\n",
    "\n",
    "all_trials_df.to_csv('../data/extracted_parents.csv.xz', index=False, \n",
    "                     compression='xz')\n",
    "\n",
    "all_trials_df.head()"
   ]
  }
 ],
 "metadata": {
  "kernelspec": {
   "display_name": "Python [conda env:modifiers]",
   "language": "python",
   "name": "conda-env-modifiers-py"
  },
  "language_info": {
   "codemirror_mode": {
    "name": "ipython",
    "version": 3
   },
   "file_extension": ".py",
   "mimetype": "text/x-python",
   "name": "python",
   "nbconvert_exporter": "python",
   "pygments_lexer": "ipython3",
   "version": "3.7.3"
  }
 },
 "nbformat": 4,
 "nbformat_minor": 2
}
