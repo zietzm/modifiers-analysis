{
 "cells": [
  {
   "cell_type": "code",
   "execution_count": 1,
   "metadata": {},
   "outputs": [
    {
     "name": "stderr",
     "output_type": "stream",
     "text": [
      "── Attaching packages ─────────────────────────────────────── tidyverse 1.2.1 ──\n",
      "✔ ggplot2 3.2.1     ✔ purrr   0.3.2\n",
      "✔ tibble  2.1.3     ✔ dplyr   0.8.3\n",
      "✔ tidyr   1.0.0     ✔ stringr 1.4.0\n",
      "✔ readr   1.3.1     ✔ forcats 0.4.0\n",
      "── Conflicts ────────────────────────────────────────── tidyverse_conflicts() ──\n",
      "✖ dplyr::filter() masks stats::filter()\n",
      "✖ dplyr::lag()    masks stats::lag()\n"
     ]
    }
   ],
   "source": [
    "library(tidyverse)"
   ]
  },
  {
   "cell_type": "code",
   "execution_count": 2,
   "metadata": {},
   "outputs": [
    {
     "name": "stderr",
     "output_type": "stream",
     "text": [
      "Warning message:\n",
      "“Missing column names filled in: 'X13' [13]”"
     ]
    },
    {
     "data": {
      "text/html": [
       "<table>\n",
       "<caption>A tibble: 1 × 6</caption>\n",
       "<thead>\n",
       "\t<tr><th scope=col>NCT_id</th><th scope=col>matched_string</th><th scope=col>manual_string</th><th scope=col>criteria_string</th><th scope=col>snomed_id</th><th scope=col>pre_post</th></tr>\n",
       "\t<tr><th scope=col>&lt;chr&gt;</th><th scope=col>&lt;chr&gt;</th><th scope=col>&lt;chr&gt;</th><th scope=col>&lt;chr&gt;</th><th scope=col>&lt;chr&gt;</th><th scope=col>&lt;chr&gt;</th></tr>\n",
       "</thead>\n",
       "<tbody>\n",
       "\t<tr><td>NCT00000456</td><td>panic</td><td>panic disorder</td><td>y patient report, collateral report, and urine drug screen.\n",
       "\n",
       "          -  Meets criteria for disorders of major depression, panic disorder, obsessive-compulsive\n",
       "             disorder, post-traumatic s</td><td>371631005</td><td>NA</td></tr>\n",
       "</tbody>\n",
       "</table>\n"
      ],
      "text/latex": [
       "A tibble: 1 × 6\n",
       "\\begin{tabular}{r|llllll}\n",
       " NCT\\_id & matched\\_string & manual\\_string & criteria\\_string & snomed\\_id & pre\\_post\\\\\n",
       " <chr> & <chr> & <chr> & <chr> & <chr> & <chr>\\\\\n",
       "\\hline\n",
       "\t NCT00000456 & panic & panic disorder & y patient report, collateral report, and urine drug screen.\n",
       "\n",
       "          -  Meets criteria for disorders of major depression, panic disorder, obsessive-compulsive\n",
       "             disorder, post-traumatic s & 371631005 & NA\\\\\n",
       "\\end{tabular}\n"
      ],
      "text/markdown": [
       "\n",
       "A tibble: 1 × 6\n",
       "\n",
       "| NCT_id &lt;chr&gt; | matched_string &lt;chr&gt; | manual_string &lt;chr&gt; | criteria_string &lt;chr&gt; | snomed_id &lt;chr&gt; | pre_post &lt;chr&gt; |\n",
       "|---|---|---|---|---|---|\n",
       "| NCT00000456 | panic | panic disorder | y patient report, collateral report, and urine drug screen.\n",
       "\n",
       "          -  Meets criteria for disorders of major depression, panic disorder, obsessive-compulsive\n",
       "             disorder, post-traumatic s | 371631005 | NA |\n",
       "\n"
      ],
      "text/plain": [
       "  NCT_id      matched_string manual_string \n",
       "1 NCT00000456 panic          panic disorder\n",
       "  criteria_string                                                                                                                                                                                            \n",
       "1 y patient report, collateral report, and urine drug screen.\\n\\n          -  Meets criteria for disorders of major depression, panic disorder, obsessive-compulsive\\n             disorder, post-traumatic s\n",
       "  snomed_id pre_post\n",
       "1 371631005 NA      "
      ]
     },
     "metadata": {},
     "output_type": "display_data"
    }
   ],
   "source": [
    "# Harry's \"gold standard\"\n",
    "hrn_df <- read_csv('../../data/annotations/annotate_notes_hr2479.csv',\n",
    "                   col_types = cols(.default = \"c\")) %>%\n",
    "    select(NCT_id, matched_string, manual_string, criteria_string, snomed_id, pre_post)\n",
    "\n",
    "# Undina's \"gold standard\"\n",
    "uog_df <- read_csv('../../data/annotations/annotate_notes_uog.csv',\n",
    "                   col_types = cols(.default = \"c\")) %>%\n",
    "    select(NCT_id, matched_string, manual_string, criteria_string, snomed_id, pre_post) %>%\n",
    "    drop_na(NCT_id)\n",
    "\n",
    "# Both uog_df and hrn_df have the same schema\n",
    "hrn_df %>% head(1)"
   ]
  },
  {
   "cell_type": "code",
   "execution_count": 3,
   "metadata": {},
   "outputs": [
    {
     "data": {
      "text/html": [
       "<table>\n",
       "<caption>A tibble: 1 × 7</caption>\n",
       "<thead>\n",
       "\t<tr><th scope=col>NCT_id</th><th scope=col>matched_string</th><th scope=col>criteria_string</th><th scope=col>source</th><th scope=col>cohort_name</th><th scope=col>concept_code</th><th scope=col>concept_name</th></tr>\n",
       "\t<tr><th scope=col>&lt;chr&gt;</th><th scope=col>&lt;chr&gt;</th><th scope=col>&lt;chr&gt;</th><th scope=col>&lt;chr&gt;</th><th scope=col>&lt;chr&gt;</th><th scope=col>&lt;chr&gt;</th><th scope=col>&lt;chr&gt;</th></tr>\n",
       "</thead>\n",
       "<tbody>\n",
       "\t<tr><td>NCT03937804</td><td>scoliosis</td><td>bronchitis lung transplant kyphoscoliosis sarcoidosis bronchopulmonary dysplasia</td><td>uog</td><td>[C2Q]bronchitis</td><td>32398004</td><td>Bronchitis</td></tr>\n",
       "</tbody>\n",
       "</table>\n"
      ],
      "text/latex": [
       "A tibble: 1 × 7\n",
       "\\begin{tabular}{r|lllllll}\n",
       " NCT\\_id & matched\\_string & criteria\\_string & source & cohort\\_name & concept\\_code & concept\\_name\\\\\n",
       " <chr> & <chr> & <chr> & <chr> & <chr> & <chr> & <chr>\\\\\n",
       "\\hline\n",
       "\t NCT03937804 & scoliosis & bronchitis lung transplant kyphoscoliosis sarcoidosis bronchopulmonary dysplasia & uog & {[}C2Q{]}bronchitis & 32398004 & Bronchitis\\\\\n",
       "\\end{tabular}\n"
      ],
      "text/markdown": [
       "\n",
       "A tibble: 1 × 7\n",
       "\n",
       "| NCT_id &lt;chr&gt; | matched_string &lt;chr&gt; | criteria_string &lt;chr&gt; | source &lt;chr&gt; | cohort_name &lt;chr&gt; | concept_code &lt;chr&gt; | concept_name &lt;chr&gt; |\n",
       "|---|---|---|---|---|---|---|\n",
       "| NCT03937804 | scoliosis | bronchitis lung transplant kyphoscoliosis sarcoidosis bronchopulmonary dysplasia | uog | [C2Q]bronchitis | 32398004 | Bronchitis |\n",
       "\n"
      ],
      "text/plain": [
       "  NCT_id      matched_string\n",
       "1 NCT03937804 scoliosis     \n",
       "  criteria_string                                                                 \n",
       "1 bronchitis lung transplant kyphoscoliosis sarcoidosis bronchopulmonary dysplasia\n",
       "  source cohort_name     concept_code concept_name\n",
       "1 uog    [C2Q]bronchitis 32398004     Bronchitis  "
      ]
     },
     "metadata": {},
     "output_type": "display_data"
    }
   ],
   "source": [
    "# Results from 1.c2q_api.ipynb\n",
    "crit_results <- read_csv('../../data/c2q/results_table.csv',\n",
    "                         col_types = cols(.default = \"c\"))\n",
    "\n",
    "crit_results %>% head(1)"
   ]
  },
  {
   "cell_type": "code",
   "execution_count": 4,
   "metadata": {},
   "outputs": [],
   "source": [
    "compute_acc <- function(annotated_df) {\n",
    "    annotated_df %>% \n",
    "    left_join(\n",
    "        crit_results, \n",
    "        by = c('NCT_id', 'snomed_id' = 'concept_code')\n",
    "    ) %>%\n",
    "    group_by(NCT_id, manual_string, snomed_id, pre_post) %>%\n",
    "    summarize(\n",
    "        match = first(cohort_name)\n",
    "    ) %>%\n",
    "    ungroup() %>%\n",
    "    summarize(\n",
    "        n_total = n(),\n",
    "        n_snomed_nan = sum(snomed_id == 'N/A'),\n",
    "        n_str_nan = sum(is.na(match)),\n",
    "        n_same = sum(!is.na(match)),\n",
    "        acc = n_same / n_total\n",
    "    )\n",
    "}"
   ]
  },
  {
   "cell_type": "code",
   "execution_count": 5,
   "metadata": {},
   "outputs": [
    {
     "data": {
      "text/html": [
       "<table>\n",
       "<caption>A tibble: 3 × 6</caption>\n",
       "<thead>\n",
       "\t<tr><th scope=col>n_total</th><th scope=col>n_snomed_nan</th><th scope=col>n_str_nan</th><th scope=col>n_same</th><th scope=col>acc</th><th scope=col>source</th></tr>\n",
       "\t<tr><th scope=col>&lt;int&gt;</th><th scope=col>&lt;int&gt;</th><th scope=col>&lt;int&gt;</th><th scope=col>&lt;int&gt;</th><th scope=col>&lt;dbl&gt;</th><th scope=col>&lt;chr&gt;</th></tr>\n",
       "</thead>\n",
       "<tbody>\n",
       "\t<tr><td>420</td><td>11</td><td>376</td><td> 44</td><td>0.1047619</td><td>HRN </td></tr>\n",
       "\t<tr><td>420</td><td> 0</td><td>169</td><td>251</td><td>0.5976190</td><td>UOG </td></tr>\n",
       "\t<tr><td>790</td><td>11</td><td>526</td><td>264</td><td>0.3341772</td><td>BOTH</td></tr>\n",
       "</tbody>\n",
       "</table>\n"
      ],
      "text/latex": [
       "A tibble: 3 × 6\n",
       "\\begin{tabular}{r|llllll}\n",
       " n\\_total & n\\_snomed\\_nan & n\\_str\\_nan & n\\_same & acc & source\\\\\n",
       " <int> & <int> & <int> & <int> & <dbl> & <chr>\\\\\n",
       "\\hline\n",
       "\t 420 & 11 & 376 &  44 & 0.1047619 & HRN \\\\\n",
       "\t 420 &  0 & 169 & 251 & 0.5976190 & UOG \\\\\n",
       "\t 790 & 11 & 526 & 264 & 0.3341772 & BOTH\\\\\n",
       "\\end{tabular}\n"
      ],
      "text/markdown": [
       "\n",
       "A tibble: 3 × 6\n",
       "\n",
       "| n_total &lt;int&gt; | n_snomed_nan &lt;int&gt; | n_str_nan &lt;int&gt; | n_same &lt;int&gt; | acc &lt;dbl&gt; | source &lt;chr&gt; |\n",
       "|---|---|---|---|---|---|\n",
       "| 420 | 11 | 376 |  44 | 0.1047619 | HRN  |\n",
       "| 420 |  0 | 169 | 251 | 0.5976190 | UOG  |\n",
       "| 790 | 11 | 526 | 264 | 0.3341772 | BOTH |\n",
       "\n"
      ],
      "text/plain": [
       "  n_total n_snomed_nan n_str_nan n_same acc       source\n",
       "1 420     11           376        44    0.1047619 HRN   \n",
       "2 420      0           169       251    0.5976190 UOG   \n",
       "3 790     11           526       264    0.3341772 BOTH  "
      ]
     },
     "metadata": {},
     "output_type": "display_data"
    }
   ],
   "source": [
    "bind_rows(\n",
    "    compute_acc(hrn_df) %>% mutate(source = 'HRN'),\n",
    "    compute_acc(uog_df) %>% mutate(source = 'UOG'),\n",
    "    compute_acc(bind_rows(hrn_df, uog_df)) %>% mutate(source = 'BOTH')\n",
    ")"
   ]
  }
 ],
 "metadata": {
  "kernelspec": {
   "display_name": "R [conda env:nsides]",
   "language": "R",
   "name": "conda-env-nsides-r"
  },
  "language_info": {
   "codemirror_mode": "r",
   "file_extension": ".r",
   "mimetype": "text/x-r-source",
   "name": "R",
   "pygments_lexer": "r",
   "version": "3.5.1"
  }
 },
 "nbformat": 4,
 "nbformat_minor": 2
}
