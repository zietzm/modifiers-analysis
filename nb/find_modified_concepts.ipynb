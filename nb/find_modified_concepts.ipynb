{
 "cells": [
  {
   "cell_type": "code",
   "execution_count": 1,
   "metadata": {},
   "outputs": [
    {
     "name": "stderr",
     "output_type": "stream",
     "text": [
      "── Attaching packages ─────────────────────────────────────── tidyverse 1.2.1 ──\n",
      "✔ ggplot2 3.2.1     ✔ purrr   0.3.2\n",
      "✔ tibble  2.1.3     ✔ dplyr   0.8.3\n",
      "✔ tidyr   1.0.0     ✔ stringr 1.4.0\n",
      "✔ readr   1.3.1     ✔ forcats 0.4.0\n",
      "── Conflicts ────────────────────────────────────────── tidyverse_conflicts() ──\n",
      "✖ dplyr::filter() masks stats::filter()\n",
      "✖ dplyr::lag()    masks stats::lag()\n"
     ]
    }
   ],
   "source": [
    "library(tidyverse)"
   ]
  },
  {
   "cell_type": "code",
   "execution_count": 2,
   "metadata": {
    "scrolled": true
   },
   "outputs": [
    {
     "name": "stderr",
     "output_type": "stream",
     "text": [
      "Parsed with column specification:\n",
      "cols(\n",
      "  concept_id = col_double(),\n",
      "  concept_name = col_character(),\n",
      "  domain_id = col_character(),\n",
      "  vocabulary_id = col_character(),\n",
      "  concept_class_id = col_character(),\n",
      "  standard_concept = col_character(),\n",
      "  concept_code = col_character(),\n",
      "  valid_start_date = col_double(),\n",
      "  valid_end_date = col_double(),\n",
      "  invalid_reason = col_character()\n",
      ")\n",
      "Parsed with column specification:\n",
      "cols(\n",
      "  concept_id = col_double(),\n",
      "  concept_synonym_name = col_character(),\n",
      "  language_concept_id = col_double()\n",
      ")\n",
      "Parsed with column specification:\n",
      "cols(\n",
      "  concept_id_1 = col_double(),\n",
      "  concept_id_2 = col_double(),\n",
      "  relationship_id = col_character(),\n",
      "  valid_start_date = col_double(),\n",
      "  valid_end_date = col_double(),\n",
      "  invalid_reason = col_logical()\n",
      ")\n",
      "Parsed with column specification:\n",
      "cols(\n",
      "  ancestor_concept_id = col_double(),\n",
      "  descendant_concept_id = col_double(),\n",
      "  min_levels_of_separation = col_double(),\n",
      "  max_levels_of_separation = col_double()\n",
      ")\n"
     ]
    }
   ],
   "source": [
    "modifiers <- 'severe|significant|severe'\n",
    "\n",
    "# These files have rows with entries that start with / \" and other problematic\n",
    "#  characters. Luckily there are no ~ used in either, so I chose this as the\n",
    "#  quote char to avoid read errors.\n",
    "concept <- read_tsv('../data/athena/CONCEPT.csv', quote=\"~\") %>% \n",
    "    filter(vocabulary_id == 'SNOMED')\n",
    "\n",
    "synonym <- read_tsv('../data/athena/CONCEPT_SYNONYM.csv', quote=\"~\") %>% \n",
    "    filter(language_concept_id == 4180186) %>%  # Only keep English concepts\n",
    "    select(-language_concept_id)\n",
    "\n",
    "relationship <- read_tsv('../data/athena/CONCEPT_RELATIONSHIP.csv', quote=\"~\")\n",
    "\n",
    "ancestor <- read_tsv('../data/athena/CONCEPT_ANCESTOR.csv', quote=\"~\")"
   ]
  },
  {
   "cell_type": "markdown",
   "metadata": {},
   "source": [
    "# Concept names vs synonyms\n",
    "\n",
    "We want concepts that have either one of the modifiers in the `concept_name` or in the name of a synonym. Morbid obesity is a good example of this.\n",
    "\n",
    "| concept_id |\tconcept_name |\tdomain_id |\tconcept_code |\tconcept_synonym_name |\n",
    "| -- |\t-- |\t-- |\t-- |\t-- |\n",
    "| 40565487 |\tMorbid obesity |\tCondition\t| 389986000 | OBESITY, SEVERE |\n",
    "| 40565487 |\tMorbid obesity |\tCondition\t| 389986000 | Severe obesity |\n",
    "| 40565487 |\tMorbid obesity |\tCondition\t| 389986000 | obesity severe |\n",
    "| 40565487 |\tMorbid obesity |\tCondition\t| 389986000 | severe obesity\t |\n",
    "\n",
    "A couple more good examples are below.\n",
    "\n",
    "| concept_id |\tconcept_name |\tdomain_id |\tconcept_code |\tconcept_synonym_name |\n",
    "| -- |\t-- |\t-- |\t-- |\t-- |\n",
    "| 440370 |\tNutritional marasmus |\tCondition |\t29740003 |\tSevere malnutrition |\n",
    "| 256716 |\tAsthma with status asthmaticus |\tCondition | \t57546000 |\tacute severe asthma\t |"
   ]
  },
  {
   "cell_type": "code",
   "execution_count": 3,
   "metadata": {},
   "outputs": [
    {
     "data": {
      "text/html": [
       "<table>\n",
       "<caption>A tibble: 2 × 3</caption>\n",
       "<thead>\n",
       "\t<tr><th scope=col>concept_id</th><th scope=col>concept_name</th><th scope=col>concept_code</th></tr>\n",
       "\t<tr><th scope=col>&lt;dbl&gt;</th><th scope=col>&lt;chr&gt;</th><th scope=col>&lt;chr&gt;</th></tr>\n",
       "</thead>\n",
       "<tbody>\n",
       "\t<tr><td>45765743</td><td>Severe dry skin            </td><td>702757002</td></tr>\n",
       "\t<tr><td>45765900</td><td>Severe cognitive impairment</td><td>702956004</td></tr>\n",
       "</tbody>\n",
       "</table>\n"
      ],
      "text/latex": [
       "A tibble: 2 × 3\n",
       "\\begin{tabular}{r|lll}\n",
       " concept\\_id & concept\\_name & concept\\_code\\\\\n",
       " <dbl> & <chr> & <chr>\\\\\n",
       "\\hline\n",
       "\t 45765743 & Severe dry skin             & 702757002\\\\\n",
       "\t 45765900 & Severe cognitive impairment & 702956004\\\\\n",
       "\\end{tabular}\n"
      ],
      "text/markdown": [
       "\n",
       "A tibble: 2 × 3\n",
       "\n",
       "| concept_id &lt;dbl&gt; | concept_name &lt;chr&gt; | concept_code &lt;chr&gt; |\n",
       "|---|---|---|\n",
       "| 45765743 | Severe dry skin             | 702757002 |\n",
       "| 45765900 | Severe cognitive impairment | 702956004 |\n",
       "\n"
      ],
      "text/plain": [
       "  concept_id concept_name                concept_code\n",
       "1 45765743   Severe dry skin             702757002   \n",
       "2 45765900   Severe cognitive impairment 702956004   "
      ]
     },
     "metadata": {},
     "output_type": "display_data"
    }
   ],
   "source": [
    "concept_with_modifiers <- concept %>% \n",
    "    filter(concept_class_id == 'Clinical Finding') %>%\n",
    "    filter(domain_id %>% str_detect('Condition')) %>%    \n",
    "    select(concept_id, concept_name, concept_code) %>%\n",
    "\n",
    "    # Want all concepts that have a synonym with a modifier\n",
    "    left_join(synonym, by = 'concept_id') %>%\n",
    "\n",
    "    # For some reason, not all concept_names are given as synonyms themselves\n",
    "    #  in the CONCEPT_SYNONYM table. Have to check both separately.\n",
    "    mutate(\n",
    "        name_has_mod = concept_name %>% str_to_lower %>% str_detect(modifiers),\n",
    "        syn_has_mod = concept_synonym_name %>% str_to_lower %>% str_detect(modifiers),\n",
    "    ) %>%\n",
    "    \n",
    "    # All concepts with either a synonym or name having a modifier\n",
    "    filter(name_has_mod | syn_has_mod) %>%\n",
    "\n",
    "    # Just unique concepts, so we can find parents (HLT)\n",
    "    select(concept_id, concept_name, concept_code) %>%\n",
    "    distinct()\n",
    "\n",
    "concept_with_modifiers %>% write_tsv('../data/computed/concepts_with_modifiers.tsv')\n",
    "\n",
    "concept_with_modifiers %>% head(2)"
   ]
  },
  {
   "cell_type": "markdown",
   "metadata": {},
   "source": [
    "## Parents of modified concepts\n",
    "\n",
    "Rather than a top-down approach, in which I try to pick a distance from the root of SNOMED diseases, say, I think it is better to just look at the parents of modified concepts.\n",
    "\n",
    "First find the parents of modified children, then find synonyms of those parents. Finally, associate each parent with ALL its descendants."
   ]
  },
  {
   "cell_type": "code",
   "execution_count": 4,
   "metadata": {},
   "outputs": [
    {
     "data": {
      "text/html": [
       "<table>\n",
       "<caption>A tibble: 6 × 6</caption>\n",
       "<thead>\n",
       "\t<tr><th scope=col>modified_concept_id</th><th scope=col>modified_concept_name</th><th scope=col>modified_concept_code</th><th scope=col>parent_concept_id</th><th scope=col>parent_concept_name</th><th scope=col>parent_concept_code</th></tr>\n",
       "\t<tr><th scope=col>&lt;dbl&gt;</th><th scope=col>&lt;chr&gt;</th><th scope=col>&lt;chr&gt;</th><th scope=col>&lt;dbl&gt;</th><th scope=col>&lt;chr&gt;</th><th scope=col>&lt;chr&gt;</th></tr>\n",
       "</thead>\n",
       "<tbody>\n",
       "\t<tr><td>45765743</td><td>Severe dry skin                                               </td><td>702757002   </td><td> 4039266</td><td>Dry skin                             </td><td>16386004 </td></tr>\n",
       "\t<tr><td>45765900</td><td>Severe cognitive impairment                                   </td><td>702956004   </td><td>  443432</td><td>Impaired cognition                   </td><td>386806002</td></tr>\n",
       "\t<tr><td>45766192</td><td>Severe hypoxic ischemic encephalopathy                        </td><td>703303004   </td><td>45766189</td><td>Hypoxic ischemic encephalopathy      </td><td>703300001</td></tr>\n",
       "\t<tr><td>40479642</td><td>Pneumonia due to Severe acute respiratory syndrome coronavirus</td><td>441590008   </td><td>  320651</td><td>Severe acute respiratory syndrome    </td><td>398447004</td></tr>\n",
       "\t<tr><td>40479642</td><td>Pneumonia due to Severe acute respiratory syndrome coronavirus</td><td>441590008   </td><td>37016927</td><td>Pneumonia caused by Human coronavirus</td><td>713084008</td></tr>\n",
       "\t<tr><td>42872411</td><td>Severe major depression, single episode                       </td><td>251000119105</td><td>42872722</td><td>Severe major depression              </td><td>450714000</td></tr>\n",
       "</tbody>\n",
       "</table>\n"
      ],
      "text/latex": [
       "A tibble: 6 × 6\n",
       "\\begin{tabular}{r|llllll}\n",
       " modified\\_concept\\_id & modified\\_concept\\_name & modified\\_concept\\_code & parent\\_concept\\_id & parent\\_concept\\_name & parent\\_concept\\_code\\\\\n",
       " <dbl> & <chr> & <chr> & <dbl> & <chr> & <chr>\\\\\n",
       "\\hline\n",
       "\t 45765743 & Severe dry skin                                                & 702757002    &  4039266 & Dry skin                              & 16386004 \\\\\n",
       "\t 45765900 & Severe cognitive impairment                                    & 702956004    &   443432 & Impaired cognition                    & 386806002\\\\\n",
       "\t 45766192 & Severe hypoxic ischemic encephalopathy                         & 703303004    & 45766189 & Hypoxic ischemic encephalopathy       & 703300001\\\\\n",
       "\t 40479642 & Pneumonia due to Severe acute respiratory syndrome coronavirus & 441590008    &   320651 & Severe acute respiratory syndrome     & 398447004\\\\\n",
       "\t 40479642 & Pneumonia due to Severe acute respiratory syndrome coronavirus & 441590008    & 37016927 & Pneumonia caused by Human coronavirus & 713084008\\\\\n",
       "\t 42872411 & Severe major depression, single episode                        & 251000119105 & 42872722 & Severe major depression               & 450714000\\\\\n",
       "\\end{tabular}\n"
      ],
      "text/markdown": [
       "\n",
       "A tibble: 6 × 6\n",
       "\n",
       "| modified_concept_id &lt;dbl&gt; | modified_concept_name &lt;chr&gt; | modified_concept_code &lt;chr&gt; | parent_concept_id &lt;dbl&gt; | parent_concept_name &lt;chr&gt; | parent_concept_code &lt;chr&gt; |\n",
       "|---|---|---|---|---|---|\n",
       "| 45765743 | Severe dry skin                                                | 702757002    |  4039266 | Dry skin                              | 16386004  |\n",
       "| 45765900 | Severe cognitive impairment                                    | 702956004    |   443432 | Impaired cognition                    | 386806002 |\n",
       "| 45766192 | Severe hypoxic ischemic encephalopathy                         | 703303004    | 45766189 | Hypoxic ischemic encephalopathy       | 703300001 |\n",
       "| 40479642 | Pneumonia due to Severe acute respiratory syndrome coronavirus | 441590008    |   320651 | Severe acute respiratory syndrome     | 398447004 |\n",
       "| 40479642 | Pneumonia due to Severe acute respiratory syndrome coronavirus | 441590008    | 37016927 | Pneumonia caused by Human coronavirus | 713084008 |\n",
       "| 42872411 | Severe major depression, single episode                        | 251000119105 | 42872722 | Severe major depression               | 450714000 |\n",
       "\n"
      ],
      "text/plain": [
       "  modified_concept_id\n",
       "1 45765743           \n",
       "2 45765900           \n",
       "3 45766192           \n",
       "4 40479642           \n",
       "5 40479642           \n",
       "6 42872411           \n",
       "  modified_concept_name                                         \n",
       "1 Severe dry skin                                               \n",
       "2 Severe cognitive impairment                                   \n",
       "3 Severe hypoxic ischemic encephalopathy                        \n",
       "4 Pneumonia due to Severe acute respiratory syndrome coronavirus\n",
       "5 Pneumonia due to Severe acute respiratory syndrome coronavirus\n",
       "6 Severe major depression, single episode                       \n",
       "  modified_concept_code parent_concept_id parent_concept_name                  \n",
       "1 702757002              4039266          Dry skin                             \n",
       "2 702956004               443432          Impaired cognition                   \n",
       "3 703303004             45766189          Hypoxic ischemic encephalopathy      \n",
       "4 441590008               320651          Severe acute respiratory syndrome    \n",
       "5 441590008             37016927          Pneumonia caused by Human coronavirus\n",
       "6 251000119105          42872722          Severe major depression              \n",
       "  parent_concept_code\n",
       "1 16386004           \n",
       "2 386806002          \n",
       "3 703300001          \n",
       "4 398447004          \n",
       "5 713084008          \n",
       "6 450714000          "
      ]
     },
     "metadata": {},
     "output_type": "display_data"
    }
   ],
   "source": [
    "parents_modified_children <- concept_with_modifiers %>%\n",
    "left_join(\n",
    "    relationship %>% \n",
    "        filter(relationship_id == 'Is a'), \n",
    "    by = c('concept_id' = 'concept_id_1')\n",
    " ) %>%\n",
    "select(\n",
    "    modified_concept_id = concept_id,\n",
    "    modified_concept_name = concept_name,\n",
    "    modified_concept_code = concept_code,\n",
    "    parent_concept_id = concept_id_2,\n",
    ") %>%\n",
    "left_join(\n",
    "    concept %>% \n",
    "    select(concept_id, parent_concept_name = concept_name, \n",
    "           parent_concept_code = concept_code), \n",
    "    by = c('parent_concept_id' = 'concept_id')\n",
    ") \n",
    "\n",
    "parents_modified_children %>% write_tsv('../data/computed/parents_with_modified_children.tsv')\n",
    "\n",
    "parents_modified_children %>% head(2)"
   ]
  },
  {
   "cell_type": "code",
   "execution_count": 5,
   "metadata": {},
   "outputs": [
    {
     "data": {
      "text/html": [
       "<table>\n",
       "<caption>A tibble: 6 × 4</caption>\n",
       "<thead>\n",
       "\t<tr><th scope=col>parent_concept_id</th><th scope=col>parent_concept_name</th><th scope=col>parent_concept_code</th><th scope=col>concept_synonym_name</th></tr>\n",
       "\t<tr><th scope=col>&lt;dbl&gt;</th><th scope=col>&lt;chr&gt;</th><th scope=col>&lt;chr&gt;</th><th scope=col>&lt;chr&gt;</th></tr>\n",
       "</thead>\n",
       "<tbody>\n",
       "\t<tr><td>4039266</td><td>Dry skin          </td><td>16386004 </td><td>Anhydrotic skin             </td></tr>\n",
       "\t<tr><td>4039266</td><td>Dry skin          </td><td>16386004 </td><td>Dry skin (finding)          </td></tr>\n",
       "\t<tr><td>4039266</td><td>Dry skin          </td><td>16386004 </td><td>Dry skin                    </td></tr>\n",
       "\t<tr><td> 443432</td><td>Impaired cognition</td><td>386806002</td><td>Cognitive disturbance       </td></tr>\n",
       "\t<tr><td> 443432</td><td>Impaired cognition</td><td>386806002</td><td>Cognitive dysfunction       </td></tr>\n",
       "\t<tr><td> 443432</td><td>Impaired cognition</td><td>386806002</td><td>Impaired cognition (finding)</td></tr>\n",
       "</tbody>\n",
       "</table>\n"
      ],
      "text/latex": [
       "A tibble: 6 × 4\n",
       "\\begin{tabular}{r|llll}\n",
       " parent\\_concept\\_id & parent\\_concept\\_name & parent\\_concept\\_code & concept\\_synonym\\_name\\\\\n",
       " <dbl> & <chr> & <chr> & <chr>\\\\\n",
       "\\hline\n",
       "\t 4039266 & Dry skin           & 16386004  & Anhydrotic skin             \\\\\n",
       "\t 4039266 & Dry skin           & 16386004  & Dry skin (finding)          \\\\\n",
       "\t 4039266 & Dry skin           & 16386004  & Dry skin                    \\\\\n",
       "\t  443432 & Impaired cognition & 386806002 & Cognitive disturbance       \\\\\n",
       "\t  443432 & Impaired cognition & 386806002 & Cognitive dysfunction       \\\\\n",
       "\t  443432 & Impaired cognition & 386806002 & Impaired cognition (finding)\\\\\n",
       "\\end{tabular}\n"
      ],
      "text/markdown": [
       "\n",
       "A tibble: 6 × 4\n",
       "\n",
       "| parent_concept_id &lt;dbl&gt; | parent_concept_name &lt;chr&gt; | parent_concept_code &lt;chr&gt; | concept_synonym_name &lt;chr&gt; |\n",
       "|---|---|---|---|\n",
       "| 4039266 | Dry skin           | 16386004  | Anhydrotic skin              |\n",
       "| 4039266 | Dry skin           | 16386004  | Dry skin (finding)           |\n",
       "| 4039266 | Dry skin           | 16386004  | Dry skin                     |\n",
       "|  443432 | Impaired cognition | 386806002 | Cognitive disturbance        |\n",
       "|  443432 | Impaired cognition | 386806002 | Cognitive dysfunction        |\n",
       "|  443432 | Impaired cognition | 386806002 | Impaired cognition (finding) |\n",
       "\n"
      ],
      "text/plain": [
       "  parent_concept_id parent_concept_name parent_concept_code\n",
       "1 4039266           Dry skin            16386004           \n",
       "2 4039266           Dry skin            16386004           \n",
       "3 4039266           Dry skin            16386004           \n",
       "4  443432           Impaired cognition  386806002          \n",
       "5  443432           Impaired cognition  386806002          \n",
       "6  443432           Impaired cognition  386806002          \n",
       "  concept_synonym_name        \n",
       "1 Anhydrotic skin             \n",
       "2 Dry skin (finding)          \n",
       "3 Dry skin                    \n",
       "4 Cognitive disturbance       \n",
       "5 Cognitive dysfunction       \n",
       "6 Impaired cognition (finding)"
      ]
     },
     "metadata": {},
     "output_type": "display_data"
    }
   ],
   "source": [
    "parents_synonyms <- parents_modified_children %>%\n",
    "select(starts_with('parent')) %>%\n",
    "left_join(synonym, by = c('parent_concept_id' = 'concept_id'))\n",
    "\n",
    "parents_synonyms %>% write_tsv('../data/computed/parents_synonyms.tsv')\n",
    "\n",
    "parents_synonyms %>% head(2)"
   ]
  },
  {
   "cell_type": "code",
   "execution_count": 6,
   "metadata": {},
   "outputs": [
    {
     "data": {
      "text/html": [
       "<table>\n",
       "<caption>A tibble: 2 × 3</caption>\n",
       "<thead>\n",
       "\t<tr><th scope=col>parent_concept_id</th><th scope=col>descendant_concept_id</th><th scope=col>descendant_synonym_name</th></tr>\n",
       "\t<tr><th scope=col>&lt;dbl&gt;</th><th scope=col>&lt;dbl&gt;</th><th scope=col>&lt;chr&gt;</th></tr>\n",
       "</thead>\n",
       "<tbody>\n",
       "\t<tr><td>4039266</td><td>4287562</td><td>Xeroderma pigmentosum group D </td></tr>\n",
       "\t<tr><td>4039266</td><td>4287562</td><td>Xeroderma pigmentosum, group D</td></tr>\n",
       "</tbody>\n",
       "</table>\n"
      ],
      "text/latex": [
       "A tibble: 2 × 3\n",
       "\\begin{tabular}{r|lll}\n",
       " parent\\_concept\\_id & descendant\\_concept\\_id & descendant\\_synonym\\_name\\\\\n",
       " <dbl> & <dbl> & <chr>\\\\\n",
       "\\hline\n",
       "\t 4039266 & 4287562 & Xeroderma pigmentosum group D \\\\\n",
       "\t 4039266 & 4287562 & Xeroderma pigmentosum, group D\\\\\n",
       "\\end{tabular}\n"
      ],
      "text/markdown": [
       "\n",
       "A tibble: 2 × 3\n",
       "\n",
       "| parent_concept_id &lt;dbl&gt; | descendant_concept_id &lt;dbl&gt; | descendant_synonym_name &lt;chr&gt; |\n",
       "|---|---|---|\n",
       "| 4039266 | 4287562 | Xeroderma pigmentosum group D  |\n",
       "| 4039266 | 4287562 | Xeroderma pigmentosum, group D |\n",
       "\n"
      ],
      "text/plain": [
       "  parent_concept_id descendant_concept_id descendant_synonym_name       \n",
       "1 4039266           4287562               Xeroderma pigmentosum group D \n",
       "2 4039266           4287562               Xeroderma pigmentosum, group D"
      ]
     },
     "metadata": {},
     "output_type": "display_data"
    }
   ],
   "source": [
    "parent_to_descendant_synonyms <- parents_modified_children %>%\n",
    "distinct(parent_concept_id) %>%\n",
    "left_join(ancestor, by = c('parent_concept_id' = 'ancestor_concept_id')) %>%\n",
    "select(parent_concept_id, descendant_concept_id) %>%\n",
    "left_join(synonym, by = c('descendant_concept_id' = 'concept_id')) %>%\n",
    "rename(descendant_synonym_name = concept_synonym_name)\n",
    "\n",
    "parent_to_descendant_synonyms %>% write_tsv('../data/computed/parent_to_descendant_synonyms.tsv')\n",
    "\n",
    "parent_to_descendant_synonyms %>% head(2)"
   ]
  }
 ],
 "metadata": {
  "kernelspec": {
   "display_name": "R [conda env:nsides]",
   "language": "R",
   "name": "conda-env-nsides-r"
  },
  "language_info": {
   "codemirror_mode": "r",
   "file_extension": ".r",
   "mimetype": "text/x-r-source",
   "name": "R",
   "pygments_lexer": "r",
   "version": "3.5.1"
  }
 },
 "nbformat": 4,
 "nbformat_minor": 2
}
