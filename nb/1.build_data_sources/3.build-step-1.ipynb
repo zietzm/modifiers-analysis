{
 "cells": [
  {
   "cell_type": "code",
   "execution_count": 1,
   "metadata": {},
   "outputs": [],
   "source": [
    "import concurrent.futures\n",
    "import functools\n",
    "import json\n",
    "import pathlib\n",
    "import re\n",
    "import sys\n",
    "import xml.etree.ElementTree as ET\n",
    "\n",
    "import pandas as pd\n",
    "import tqdm\n",
    "\n",
    "sys.path.insert(0, '../')\n",
    "import map_modifiers"
   ]
  },
  {
   "cell_type": "markdown",
   "metadata": {},
   "source": [
    "## Get parent synonyms to match for step 1"
   ]
  },
  {
   "cell_type": "code",
   "execution_count": 2,
   "metadata": {},
   "outputs": [
    {
     "data": {
      "text/html": [
       "<div>\n",
       "<style scoped>\n",
       "    .dataframe tbody tr th:only-of-type {\n",
       "        vertical-align: middle;\n",
       "    }\n",
       "\n",
       "    .dataframe tbody tr th {\n",
       "        vertical-align: top;\n",
       "    }\n",
       "\n",
       "    .dataframe thead th {\n",
       "        text-align: right;\n",
       "    }\n",
       "</style>\n",
       "<table border=\"1\" class=\"dataframe\">\n",
       "  <thead>\n",
       "    <tr style=\"text-align: right;\">\n",
       "      <th></th>\n",
       "      <th>parent_concept_id</th>\n",
       "      <th>parent_concept_name</th>\n",
       "      <th>parent_concept_code</th>\n",
       "      <th>concept_synonym_name</th>\n",
       "    </tr>\n",
       "  </thead>\n",
       "  <tbody>\n",
       "    <tr>\n",
       "      <th>0</th>\n",
       "      <td>4039266</td>\n",
       "      <td>Dry skin</td>\n",
       "      <td>16386004</td>\n",
       "      <td>Anhydrotic skin</td>\n",
       "    </tr>\n",
       "    <tr>\n",
       "      <th>1</th>\n",
       "      <td>4039266</td>\n",
       "      <td>Dry skin</td>\n",
       "      <td>16386004</td>\n",
       "      <td>Dry skin (finding)</td>\n",
       "    </tr>\n",
       "    <tr>\n",
       "      <th>2</th>\n",
       "      <td>4039266</td>\n",
       "      <td>Dry skin</td>\n",
       "      <td>16386004</td>\n",
       "      <td>Dry skin</td>\n",
       "    </tr>\n",
       "    <tr>\n",
       "      <th>3</th>\n",
       "      <td>443432</td>\n",
       "      <td>Impaired cognition</td>\n",
       "      <td>386806002</td>\n",
       "      <td>Cognitive disturbance</td>\n",
       "    </tr>\n",
       "    <tr>\n",
       "      <th>4</th>\n",
       "      <td>443432</td>\n",
       "      <td>Impaired cognition</td>\n",
       "      <td>386806002</td>\n",
       "      <td>Cognitive dysfunction</td>\n",
       "    </tr>\n",
       "  </tbody>\n",
       "</table>\n",
       "</div>"
      ],
      "text/plain": [
       "   parent_concept_id parent_concept_name  parent_concept_code  \\\n",
       "0            4039266            Dry skin             16386004   \n",
       "1            4039266            Dry skin             16386004   \n",
       "2            4039266            Dry skin             16386004   \n",
       "3             443432  Impaired cognition            386806002   \n",
       "4             443432  Impaired cognition            386806002   \n",
       "\n",
       "    concept_synonym_name  \n",
       "0        Anhydrotic skin  \n",
       "1     Dry skin (finding)  \n",
       "2               Dry skin  \n",
       "3  Cognitive disturbance  \n",
       "4  Cognitive dysfunction  "
      ]
     },
     "execution_count": 2,
     "metadata": {},
     "output_type": "execute_result"
    }
   ],
   "source": [
    "parents_df = (\n",
    "    pd.read_csv(\n",
    "        '../data/computed/parents_synonyms.tsv', \n",
    "        sep='\\t',\n",
    "        dtype={\n",
    "            'parent_concept_id': int,\n",
    "            'parent_concept_name': str,\n",
    "            'parent_concept_code': int,\n",
    "            'concept_synonym_name': str,\n",
    "        }\n",
    "    )\n",
    ")\n",
    "\n",
    "parents_df.head(5)"
   ]
  },
  {
   "cell_type": "code",
   "execution_count": 3,
   "metadata": {},
   "outputs": [
    {
     "name": "stdout",
     "output_type": "stream",
     "text": [
      "Concepts before removal:  1539\n",
      "Concepts after removal:  1080\n"
     ]
    }
   ],
   "source": [
    "# Create dictionary of {parent_synonym: parent_snomed_code}\n",
    "parent_synonyms_to_parent_concept_code = (\n",
    "    parents_df\n",
    "    .set_index('concept_synonym_name')\n",
    "    .loc[:, 'parent_concept_code']\n",
    "    .to_dict()\n",
    ")\n",
    "\n",
    "# Check that all 'abc (finding)' exist also as 'abc'\n",
    "for synonym in parent_synonyms_to_parent_concept_code:\n",
    "    if '(finding)' in synonym:\n",
    "        assert synonym.replace(' (finding)', '') in parent_synonyms_to_parent_concept_code\n",
    "    elif '(disorder)' in synonym:\n",
    "        assert synonym.replace(' (disorder)', '') in parent_synonyms_to_parent_concept_code\n",
    "\n",
    "# Remove synonyms having (finding) or (disorder) and normalize synonyms\n",
    "print('Concepts before removal: ', len(parent_synonyms_to_parent_concept_code))\n",
    "parent_synonyms_to_parent_concept_code = {\n",
    "    map_modifiers.utils.normalize_text(synonym): code \n",
    "    for synonym, code in parent_synonyms_to_parent_concept_code.items()\n",
    "    if '(finding)' not in synonym and '(disorder)' not in synonym\n",
    "}\n",
    "print('Concepts after removal: ', len(parent_synonyms_to_parent_concept_code))\n",
    "\n",
    "############## POSSIBLE FUTURE IMPROVEMENT ######################\n",
    "# # All 'ABC - Alpha Beta Charlie' should also be present as \n",
    "# #  'ABC' and 'Alpha Beta Charlie'\n",
    "# for synonym, code in list(parent_synonyms_to_parent_concept_code.items()):\n",
    "#     if ' - ' in synonym:\n",
    "#         first, second = synonym.split(' - ', maxsplit=1)\n",
    "#         # If 'Alpha Beta Charlie' not a synonym, ignore this case\n",
    "#         if second in parent_synonyms_to_parent_concept_code:\n",
    "#             parent_synonyms_to_parent_concept_code[first] = code\n",
    "# print('Concepts after adding acronyms: ', len(parent_synonyms_to_parent_concept_code))\n",
    "##################################################################\n",
    "\n",
    "# Save map from parent synonym to parent SNOMED CT code for use in package\n",
    "with open('../map_modifiers/parent_synonyms.json', 'w') as f:\n",
    "    json.dump(parent_synonyms_to_parent_concept_code, f, sort_keys=True, indent=2)"
   ]
  },
  {
   "cell_type": "markdown",
   "metadata": {},
   "source": [
    "## Open trials files"
   ]
  },
  {
   "cell_type": "code",
   "execution_count": 4,
   "metadata": {},
   "outputs": [],
   "source": [
    "def xml_file_to_text(file_path):\n",
    "    \"\"\"\n",
    "    Extract the eligibility criteria string from an XML file\n",
    "    describing a clinical trial.\n",
    "    \"\"\"\n",
    "    tree = ET.parse(file_path)\n",
    "    root = tree.getroot()\n",
    "    \n",
    "    try:\n",
    "        eligibility_text = (\n",
    "            root\n",
    "            .find('eligibility/criteria/textblock')\n",
    "            .text\n",
    "            .strip()\n",
    "        )\n",
    "    except AttributeError:\n",
    "        return ''\n",
    "    return eligibility_text"
   ]
  },
  {
   "cell_type": "code",
   "execution_count": 5,
   "metadata": {},
   "outputs": [
    {
     "data": {
      "text/plain": [
       "320611"
      ]
     },
     "execution_count": 5,
     "metadata": {},
     "output_type": "execute_result"
    }
   ],
   "source": [
    "trials_root = pathlib.Path('../data/AllPublicXML/')\n",
    "\n",
    "trial_files = list(trials_root.glob('*/*.xml'))\n",
    "\n",
    "len(trial_files)"
   ]
  },
  {
   "cell_type": "code",
   "execution_count": 6,
   "metadata": {},
   "outputs": [
    {
     "data": {
      "application/vnd.jupyter.widget-view+json": {
       "model_id": "bb23ed56d1664a408e26db78791b79ec",
       "version_major": 2,
       "version_minor": 0
      },
      "text/plain": [
       "HBox(children=(IntProgress(value=0, max=320611), HTML(value='')))"
      ]
     },
     "metadata": {},
     "output_type": "display_data"
    },
    {
     "name": "stdout",
     "output_type": "stream",
     "text": [
      "\n"
     ]
    }
   ],
   "source": [
    "all_matches = list()\n",
    "for trial_file in tqdm.tqdm_notebook(trial_files):\n",
    "    text = xml_file_to_text(trial_file)\n",
    "    normalized_text = map_modifiers.utils.normalize_text(text)\n",
    "    \n",
    "    matches = map_modifiers.recognize_parents.find_possible_pre_coordination(\n",
    "        normalized_text, parent_synonyms_to_parent_concept_code, 5\n",
    "    )\n",
    "    \n",
    "    for match in matches:\n",
    "        match['NCT_id'] = trial_file.stem\n",
    "    \n",
    "    all_matches.extend(matches)"
   ]
  },
  {
   "cell_type": "code",
   "execution_count": 7,
   "metadata": {},
   "outputs": [
    {
     "name": "stdout",
     "output_type": "stream",
     "text": [
      "386936\n"
     ]
    },
    {
     "data": {
      "text/html": [
       "<div>\n",
       "<style scoped>\n",
       "    .dataframe tbody tr th:only-of-type {\n",
       "        vertical-align: middle;\n",
       "    }\n",
       "\n",
       "    .dataframe tbody tr th {\n",
       "        vertical-align: top;\n",
       "    }\n",
       "\n",
       "    .dataframe thead th {\n",
       "        text-align: right;\n",
       "    }\n",
       "</style>\n",
       "<table border=\"1\" class=\"dataframe\">\n",
       "  <thead>\n",
       "    <tr style=\"text-align: right;\">\n",
       "      <th></th>\n",
       "      <th>NCT_id</th>\n",
       "      <th>criteria_string</th>\n",
       "      <th>matched_synonym</th>\n",
       "      <th>parent_code</th>\n",
       "    </tr>\n",
       "  </thead>\n",
       "  <tbody>\n",
       "    <tr>\n",
       "      <th>0</th>\n",
       "      <td>NCT01828931</td>\n",
       "      <td>diagnosis of one of the psychotic disorders li...</td>\n",
       "      <td>psychotic disorder</td>\n",
       "      <td>69322001</td>\n",
       "    </tr>\n",
       "    <tr>\n",
       "      <th>1</th>\n",
       "      <td>NCT01829815</td>\n",
       "      <td>exclusion criteria - severe cognitive disabili...</td>\n",
       "      <td>disability</td>\n",
       "      <td>21134002</td>\n",
       "    </tr>\n",
       "  </tbody>\n",
       "</table>\n",
       "</div>"
      ],
      "text/plain": [
       "        NCT_id                                    criteria_string  \\\n",
       "0  NCT01828931  diagnosis of one of the psychotic disorders li...   \n",
       "1  NCT01829815  exclusion criteria - severe cognitive disabili...   \n",
       "\n",
       "      matched_synonym  parent_code  \n",
       "0  psychotic disorder     69322001  \n",
       "1          disability     21134002  "
      ]
     },
     "execution_count": 7,
     "metadata": {},
     "output_type": "execute_result"
    }
   ],
   "source": [
    "colnames = ['NCT_id', 'criteria_string', 'matched_synonym', 'parent_code']\n",
    "all_trials_df = pd.DataFrame(all_matches, columns=colnames)\n",
    "\n",
    "all_trials_df.to_csv('../data/all_trials_word_matches.csv.xz', compression='xz', index=False)\n",
    "\n",
    "print(all_trials_df.shape[0])\n",
    "\n",
    "all_trials_df.head(2)"
   ]
  }
 ],
 "metadata": {
  "kernelspec": {
   "display_name": "Python [conda env:modifiers] *",
   "language": "python",
   "name": "conda-env-modifiers-py"
  },
  "language_info": {
   "codemirror_mode": {
    "name": "ipython",
    "version": 3
   },
   "file_extension": ".py",
   "mimetype": "text/x-python",
   "name": "python",
   "nbconvert_exporter": "python",
   "pygments_lexer": "ipython3",
   "version": "3.7.3"
  }
 },
 "nbformat": 4,
 "nbformat_minor": 2
}
