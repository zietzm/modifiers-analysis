{
 "cells": [
  {
   "cell_type": "code",
   "execution_count": 1,
   "metadata": {},
   "outputs": [],
   "source": [
    "import collections\n",
    "import json\n",
    "import re\n",
    "import sys\n",
    "\n",
    "import pandas as pd\n",
    "\n",
    "sys.path.insert(0, '../')\n",
    "import map_modifiers"
   ]
  },
  {
   "cell_type": "code",
   "execution_count": 2,
   "metadata": {},
   "outputs": [
    {
     "data": {
      "text/html": [
       "<div>\n",
       "<style scoped>\n",
       "    .dataframe tbody tr th:only-of-type {\n",
       "        vertical-align: middle;\n",
       "    }\n",
       "\n",
       "    .dataframe tbody tr th {\n",
       "        vertical-align: top;\n",
       "    }\n",
       "\n",
       "    .dataframe thead th {\n",
       "        text-align: right;\n",
       "    }\n",
       "</style>\n",
       "<table border=\"1\" class=\"dataframe\">\n",
       "  <thead>\n",
       "    <tr style=\"text-align: right;\">\n",
       "      <th></th>\n",
       "      <th>parent_concept_id</th>\n",
       "      <th>parent_concept_name</th>\n",
       "      <th>parent_concept_code</th>\n",
       "      <th>concept_synonym_name</th>\n",
       "    </tr>\n",
       "  </thead>\n",
       "  <tbody>\n",
       "    <tr>\n",
       "      <th>0</th>\n",
       "      <td>4039266</td>\n",
       "      <td>Dry skin</td>\n",
       "      <td>16386004</td>\n",
       "      <td>Anhydrotic skin</td>\n",
       "    </tr>\n",
       "    <tr>\n",
       "      <th>1</th>\n",
       "      <td>4039266</td>\n",
       "      <td>Dry skin</td>\n",
       "      <td>16386004</td>\n",
       "      <td>Dry skin (finding)</td>\n",
       "    </tr>\n",
       "  </tbody>\n",
       "</table>\n",
       "</div>"
      ],
      "text/plain": [
       "   parent_concept_id parent_concept_name  parent_concept_code  \\\n",
       "0            4039266            Dry skin             16386004   \n",
       "1            4039266            Dry skin             16386004   \n",
       "\n",
       "  concept_synonym_name  \n",
       "0      Anhydrotic skin  \n",
       "1   Dry skin (finding)  "
      ]
     },
     "execution_count": 2,
     "metadata": {},
     "output_type": "execute_result"
    }
   ],
   "source": [
    "parents_df = (\n",
    "    pd.read_csv(\n",
    "        '../data/computed/parents_synonyms.tsv', \n",
    "        sep='\\t',\n",
    "        dtype={\n",
    "            'parent_concept_id': int,\n",
    "            'parent_concept_name': str,\n",
    "            'parent_concept_code': int,\n",
    "            'concept_synonym_name': str,\n",
    "        }\n",
    "    )\n",
    ")\n",
    "\n",
    "parents_df.head(2)"
   ]
  },
  {
   "cell_type": "code",
   "execution_count": 3,
   "metadata": {},
   "outputs": [
    {
     "data": {
      "text/html": [
       "<div>\n",
       "<style scoped>\n",
       "    .dataframe tbody tr th:only-of-type {\n",
       "        vertical-align: middle;\n",
       "    }\n",
       "\n",
       "    .dataframe tbody tr th {\n",
       "        vertical-align: top;\n",
       "    }\n",
       "\n",
       "    .dataframe thead th {\n",
       "        text-align: right;\n",
       "    }\n",
       "</style>\n",
       "<table border=\"1\" class=\"dataframe\">\n",
       "  <thead>\n",
       "    <tr style=\"text-align: right;\">\n",
       "      <th></th>\n",
       "      <th>parent_concept_code</th>\n",
       "      <th>descendant_concept_code</th>\n",
       "      <th>descendant_synonym_name</th>\n",
       "    </tr>\n",
       "  </thead>\n",
       "  <tbody>\n",
       "    <tr>\n",
       "      <th>0</th>\n",
       "      <td>16386004</td>\n",
       "      <td>68637004</td>\n",
       "      <td>Xeroderma pigmentosum group D</td>\n",
       "    </tr>\n",
       "    <tr>\n",
       "      <th>1</th>\n",
       "      <td>16386004</td>\n",
       "      <td>68637004</td>\n",
       "      <td>Xeroderma pigmentosum, group D</td>\n",
       "    </tr>\n",
       "  </tbody>\n",
       "</table>\n",
       "</div>"
      ],
      "text/plain": [
       "   parent_concept_code  descendant_concept_code  \\\n",
       "0             16386004                 68637004   \n",
       "1             16386004                 68637004   \n",
       "\n",
       "          descendant_synonym_name  \n",
       "0   Xeroderma pigmentosum group D  \n",
       "1  Xeroderma pigmentosum, group D  "
      ]
     },
     "execution_count": 3,
     "metadata": {},
     "output_type": "execute_result"
    }
   ],
   "source": [
    "par_to_syn_df = (\n",
    "    pd.read_csv(\n",
    "        '../data/computed/parent_to_descendant_synonyms_codes.tsv', \n",
    "        sep='\\t',\n",
    "        dtype={\n",
    "            'parent_concept_code': int,\n",
    "            'descendant_concept_code': int,\n",
    "            'descendant_synonym_name': str,\n",
    "        }\n",
    "    )\n",
    ")\n",
    "\n",
    "par_to_syn_df.head(2)"
   ]
  },
  {
   "cell_type": "markdown",
   "metadata": {},
   "source": [
    "## Map from parent code to all candidate strings\n",
    "\n",
    "Children and synonyms"
   ]
  },
  {
   "cell_type": "code",
   "execution_count": 4,
   "metadata": {},
   "outputs": [],
   "source": [
    "def prune_disorder_finding(synonym_set):\n",
    "    copied = synonym_set.copy()\n",
    "    for child in list(synonym_set):\n",
    "        if child not in copied:\n",
    "            continue\n",
    "        if not re.search('\\(disorder\\)|\\(finding\\)', child):\n",
    "            continue\n",
    "        if re.sub(' \\(disorder\\)| \\(finding\\)', '', child) in copied:\n",
    "            copied.remove(child)\n",
    "    return copied"
   ]
  },
  {
   "cell_type": "code",
   "execution_count": 5,
   "metadata": {},
   "outputs": [],
   "source": [
    "# Get parent code to its own synonyms\n",
    "parent_to_its_synonyms = (\n",
    "    parents_df\n",
    "    .groupby('parent_concept_code')\n",
    "    ['concept_synonym_name']\n",
    "    .apply(set)\n",
    "    .to_dict()\n",
    ")\n",
    "\n",
    "for parent_code, synonyms in parent_to_its_synonyms.items():\n",
    "    synonyms = [\n",
    "        map_modifiers.utils.normalize_text(synonym)\n",
    "        for synonym in synonyms\n",
    "    ]\n",
    "    parent_to_its_synonyms[parent_code] = set(prune_disorder_finding(synonyms))"
   ]
  },
  {
   "cell_type": "code",
   "execution_count": 6,
   "metadata": {},
   "outputs": [],
   "source": [
    "# Get parent code to child synonyms\n",
    "parent_to_children_syn = (\n",
    "    par_to_syn_df\n",
    "    .groupby('parent_concept_code')\n",
    "    ['descendant_synonym_name']\n",
    "    .apply(set)\n",
    "    .to_dict()\n",
    ")\n",
    "\n",
    "for parent_code, synonyms in parent_to_children_syn.items():\n",
    "    synonyms = [\n",
    "        map_modifiers.utils.normalize_text(synonym)\n",
    "        for synonym in synonyms\n",
    "    ]\n",
    "    parent_to_children_syn[parent_code] = set(prune_disorder_finding(synonyms))"
   ]
  },
  {
   "cell_type": "code",
   "execution_count": 7,
   "metadata": {},
   "outputs": [],
   "source": [
    "# Combine to get parent code -> all candidates\n",
    "parent_to_candidates = collections.defaultdict(set)\n",
    "for dictionary in [parent_to_its_synonyms, parent_to_children_syn]:\n",
    "    for parent_code, candidates_set in dictionary.items():\n",
    "        parent_to_candidates[parent_code] = parent_to_candidates[parent_code].union(candidates_set)\n",
    "        \n",
    "parent_to_candidates = {k: list(v) for k, v in parent_to_candidates.items()}\n",
    "\n",
    "with open('../map_modifiers/parent_to_candidates.json', 'w') as f:\n",
    "    json.dump(parent_to_candidates, f, indent=2, sort_keys=True)"
   ]
  },
  {
   "cell_type": "markdown",
   "metadata": {},
   "source": [
    "## Map from each candidate to its concept code"
   ]
  },
  {
   "cell_type": "code",
   "execution_count": 8,
   "metadata": {},
   "outputs": [],
   "source": [
    "child_candidate_to_code = (\n",
    "    par_to_syn_df\n",
    "    .assign(\n",
    "        descendant_synonym_name=lambda df: df['descendant_synonym_name'].apply(\n",
    "            map_modifiers.utils.normalize_text\n",
    "        )\n",
    "    )\n",
    "    .groupby('descendant_synonym_name')\n",
    "    ['descendant_concept_code']\n",
    "    .apply(set)\n",
    "    .to_dict()\n",
    ")\n",
    "\n",
    "parent_candidate_to_code = (\n",
    "    parents_df\n",
    "    .assign(\n",
    "        concept_synonym_name=lambda df: df['concept_synonym_name'].apply(\n",
    "            map_modifiers.utils.normalize_text\n",
    "        )\n",
    "    )\n",
    "    .groupby('concept_synonym_name')\n",
    "    ['parent_concept_code']\n",
    "    .apply(set)\n",
    "    .to_dict()\n",
    ")"
   ]
  },
  {
   "cell_type": "code",
   "execution_count": 9,
   "metadata": {},
   "outputs": [],
   "source": [
    "# Combine to get candidate -> SNOMED code for parents and children\n",
    "candidate_to_code = collections.defaultdict(set)\n",
    "for dictionary in [child_candidate_to_code, parent_candidate_to_code]:\n",
    "    for candidate, codes in dictionary.items():\n",
    "        candidate_to_code[candidate] = candidate_to_code[candidate].union(codes)\n",
    "    \n",
    "candidate_to_code = {k: list(v) for k, v in candidate_to_code.items()}\n",
    "\n",
    "with open('../map_modifiers/candidate_to_code.json', 'w') as f:\n",
    "    json.dump(candidate_to_code, f, indent=2, sort_keys=True)"
   ]
  }
 ],
 "metadata": {
  "kernelspec": {
   "display_name": "Python [conda env:modifiers] *",
   "language": "python",
   "name": "conda-env-modifiers-py"
  },
  "language_info": {
   "codemirror_mode": {
    "name": "ipython",
    "version": 3
   },
   "file_extension": ".py",
   "mimetype": "text/x-python",
   "name": "python",
   "nbconvert_exporter": "python",
   "pygments_lexer": "ipython3",
   "version": "3.7.3"
  }
 },
 "nbformat": 4,
 "nbformat_minor": 2
}
